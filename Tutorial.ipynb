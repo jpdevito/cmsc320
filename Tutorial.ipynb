{
 "cells": [
  {
   "cell_type": "markdown",
   "id": "political-princess",
   "metadata": {},
   "source": [
    "# Getting Data\n",
    "\n",
    "This notebook will walk through the process of using Python for identifying/scraping data, performing exploratory data analysis, and gaining insight from the data. \n",
    "\n",
    "Data can be found anywhere online. If you're lucky there's an API that makes it easy to request data from a database, but sometimes it'll take a bit more elbow grease. If data is shown on a website you could read the HTML into Python, and parse through it to find the relevant data you want (libraries such as \"Beautiful Soup\" would help with this). The data you find does not initially need to be perfectly formatted for you to be able to perform data analysis on it.\n",
    "\n",
    "In this notebook I am going to look at how greenhouse gas emissions have changed over time from 1990-2014, and global temperatures over that same span. I initially found the greenhouse gas data on the United Nations' website, but each variable (carbon dioxide, methane, etc) was stored in a different dataset. I was able to find the same data on Kaggle, a website where you can find many datasets and other data science resources, which allowed me to download everyting I wanted directly as a CSV file.\n",
    "\n",
    "UN website link:\n",
    "http://data.un.org/Explorer.aspx\n",
    "\n",
    "Kaggle link:\n",
    "https://www.kaggle.com/unitednations/international-greenhouse-gas-emissions\n",
    "\n",
    "With that CSV file I can easily read it into Python using a library called Pandas, which helpes with storing the data and memory as a \"dataframe\" and provides many functions that help with manipulating the data."
   ]
  },
  {
   "cell_type": "code",
   "execution_count": 59,
   "id": "mature-following",
   "metadata": {},
   "outputs": [],
   "source": [
    "import pandas as pd"
   ]
  },
  {
   "cell_type": "code",
   "execution_count": 71,
   "id": "bearing-spanking",
   "metadata": {
    "scrolled": true
   },
   "outputs": [
    {
     "data": {
      "text/html": [
       "<div>\n",
       "<style scoped>\n",
       "    .dataframe tbody tr th:only-of-type {\n",
       "        vertical-align: middle;\n",
       "    }\n",
       "\n",
       "    .dataframe tbody tr th {\n",
       "        vertical-align: top;\n",
       "    }\n",
       "\n",
       "    .dataframe thead th {\n",
       "        text-align: right;\n",
       "    }\n",
       "</style>\n",
       "<table border=\"1\" class=\"dataframe\">\n",
       "  <thead>\n",
       "    <tr style=\"text-align: right;\">\n",
       "      <th></th>\n",
       "      <th>country_or_area</th>\n",
       "      <th>year</th>\n",
       "      <th>value</th>\n",
       "      <th>category</th>\n",
       "    </tr>\n",
       "  </thead>\n",
       "  <tbody>\n",
       "    <tr>\n",
       "      <th>0</th>\n",
       "      <td>Australia</td>\n",
       "      <td>2014</td>\n",
       "      <td>393126.946994</td>\n",
       "      <td>carbon_dioxide_co2_emissions_without_land_use_...</td>\n",
       "    </tr>\n",
       "    <tr>\n",
       "      <th>1</th>\n",
       "      <td>Australia</td>\n",
       "      <td>2013</td>\n",
       "      <td>396913.936530</td>\n",
       "      <td>carbon_dioxide_co2_emissions_without_land_use_...</td>\n",
       "    </tr>\n",
       "    <tr>\n",
       "      <th>2</th>\n",
       "      <td>Australia</td>\n",
       "      <td>2012</td>\n",
       "      <td>406462.847704</td>\n",
       "      <td>carbon_dioxide_co2_emissions_without_land_use_...</td>\n",
       "    </tr>\n",
       "    <tr>\n",
       "      <th>3</th>\n",
       "      <td>Australia</td>\n",
       "      <td>2011</td>\n",
       "      <td>403705.528314</td>\n",
       "      <td>carbon_dioxide_co2_emissions_without_land_use_...</td>\n",
       "    </tr>\n",
       "    <tr>\n",
       "      <th>4</th>\n",
       "      <td>Australia</td>\n",
       "      <td>2010</td>\n",
       "      <td>406200.993184</td>\n",
       "      <td>carbon_dioxide_co2_emissions_without_land_use_...</td>\n",
       "    </tr>\n",
       "  </tbody>\n",
       "</table>\n",
       "</div>"
      ],
      "text/plain": [
       "  country_or_area  year          value  \\\n",
       "0       Australia  2014  393126.946994   \n",
       "1       Australia  2013  396913.936530   \n",
       "2       Australia  2012  406462.847704   \n",
       "3       Australia  2011  403705.528314   \n",
       "4       Australia  2010  406200.993184   \n",
       "\n",
       "                                            category  \n",
       "0  carbon_dioxide_co2_emissions_without_land_use_...  \n",
       "1  carbon_dioxide_co2_emissions_without_land_use_...  \n",
       "2  carbon_dioxide_co2_emissions_without_land_use_...  \n",
       "3  carbon_dioxide_co2_emissions_without_land_use_...  \n",
       "4  carbon_dioxide_co2_emissions_without_land_use_...  "
      ]
     },
     "execution_count": 71,
     "metadata": {},
     "output_type": "execute_result"
    }
   ],
   "source": [
    "# imports the csv into a pandas dataframe object\n",
    "ghg_data = pd.read_csv(\"greenhouse_gas_inventory_data.csv\")\n",
    "\n",
    "# shows the first 5 rows\n",
    "ghg_data.head()"
   ]
  },
  {
   "cell_type": "markdown",
   "id": "about-export",
   "metadata": {},
   "source": [
    "I found the global temperature data on NASA's website as a .txt file; it has the recorded \"temperature anomaly\" for each year from 1880 to 2020, where \"temperature anomaly\" is the temperature in Celsius *relative* to the average temperature from 1951-1980. It contains the exact values as well as \"smoothed\" values, but I will only deal with the exact data here.\n",
    "\n",
    "Link to data:\n",
    "https://data.giss.nasa.gov/gistemp/graphs/graph_data/Global_Mean_Estimates_based_on_Land_and_Ocean_Data/graph.txt\n",
    "\n",
    "Description of data:\n",
    "https://climate.nasa.gov/vital-signs/global-temperature/"
   ]
  },
  {
   "cell_type": "code",
   "execution_count": 66,
   "id": "certain-retro",
   "metadata": {},
   "outputs": [],
   "source": [
    "import requests as req"
   ]
  },
  {
   "cell_type": "code",
   "execution_count": 94,
   "id": "protecting-conversion",
   "metadata": {},
   "outputs": [
    {
     "data": {
      "text/plain": [
       "'Land-Ocean Temperature Index (C)\\n--------------------------------\\n\\nYear No_Smoothing  Lowess(5)\\n----------------------------\\n1880     -0.16     -0.08\\n1881     -0.08     -0.12\\n1882     -0.10     -0.16\\n1883     -0.16     -0.20\\n1884     -0.28     -0.23\\n1885     -0.33     -0.26\\n1886     -0.31     -0.27\\n1887     -0.36     -0.27\\n1888     -0.17     -0.26\\n1889     -0.10     -0.25\\n1890     -0.35     -0.25\\n1891     -0.22     -0.25\\n1892     -0.27     -0.26\\n1893     -0.31     -0.26\\n1894     -0.30     -0.24\\n'"
      ]
     },
     "execution_count": 94,
     "metadata": {},
     "output_type": "execute_result"
    }
   ],
   "source": [
    "# gets the text file from nasa.gov\n",
    "web = req.get(\"https://data.giss.nasa.gov/gistemp/graphs/graph_data/Global_Mean_Estimates_based_on_Land_and_Ocean_Data/graph.txt\")\n",
    "\n",
    "# first 500 characters\n",
    "web.text[:500]\n",
    "\n",
    "# this is going to need a bit of cleaning up..."
   ]
  },
  {
   "cell_type": "code",
   "execution_count": 96,
   "id": "typical-enough",
   "metadata": {
    "scrolled": true
   },
   "outputs": [
    {
     "data": {
      "text/plain": [
       "['1880     -0.16     -0.08',\n",
       " '1881     -0.08     -0.12',\n",
       " '1882     -0.10     -0.16',\n",
       " '1883     -0.16     -0.20',\n",
       " '1884     -0.28     -0.23',\n",
       " '1885     -0.33     -0.26',\n",
       " '1886     -0.31     -0.27',\n",
       " '1887     -0.36     -0.27',\n",
       " '1888     -0.17     -0.26',\n",
       " '1889     -0.10     -0.25',\n",
       " '1890     -0.35     -0.25',\n",
       " '1891     -0.22     -0.25',\n",
       " '1892     -0.27     -0.26',\n",
       " '1893     -0.31     -0.26',\n",
       " '1894     -0.30     -0.24',\n",
       " '1895     -0.23     -0.22',\n",
       " '1896     -0.11     -0.20',\n",
       " '1897     -0.11     -0.18',\n",
       " '1898     -0.27     -0.16',\n",
       " '1899     -0.17     -0.17',\n",
       " '1900     -0.08     -0.20',\n",
       " '1901     -0.15     -0.23',\n",
       " '1902     -0.27     -0.25',\n",
       " '1903     -0.37     -0.28',\n",
       " '1904     -0.47     -0.31',\n",
       " '1905     -0.26     -0.33',\n",
       " '1906     -0.22     -0.36',\n",
       " '1907     -0.38     -0.37',\n",
       " '1908     -0.43     -0.39',\n",
       " '1909     -0.48     -0.41',\n",
       " '1910     -0.43     -0.41',\n",
       " '1911     -0.44     -0.39',\n",
       " '1912     -0.36     -0.35',\n",
       " '1913     -0.34     -0.32',\n",
       " '1914     -0.15     -0.31',\n",
       " '1915     -0.14     -0.30',\n",
       " '1916     -0.35     -0.29',\n",
       " '1917     -0.46     -0.29',\n",
       " '1918     -0.30     -0.30',\n",
       " '1919     -0.28     -0.29',\n",
       " '1920     -0.27     -0.28',\n",
       " '1921     -0.19     -0.26',\n",
       " '1922     -0.28     -0.25',\n",
       " '1923     -0.26     -0.24',\n",
       " '1924     -0.27     -0.23',\n",
       " '1925     -0.22     -0.22',\n",
       " '1926     -0.11     -0.22',\n",
       " '1927     -0.22     -0.21',\n",
       " '1928     -0.20     -0.20',\n",
       " '1929     -0.36     -0.19',\n",
       " '1930     -0.16     -0.19',\n",
       " '1931     -0.10     -0.19',\n",
       " '1932     -0.16     -0.18',\n",
       " '1933     -0.29     -0.17',\n",
       " '1934     -0.13     -0.16',\n",
       " '1935     -0.20     -0.14',\n",
       " '1936     -0.15     -0.11',\n",
       " '1937     -0.03     -0.07',\n",
       " '1938     -0.01     -0.02',\n",
       " '1939     -0.02      0.03',\n",
       " '1940      0.12      0.06',\n",
       " '1941      0.18      0.09',\n",
       " '1942      0.06      0.10',\n",
       " '1943      0.09      0.10',\n",
       " '1944      0.20      0.07',\n",
       " '1945      0.09      0.04',\n",
       " '1946     -0.07      0.00',\n",
       " '1947     -0.03     -0.04',\n",
       " '1948     -0.11     -0.07',\n",
       " '1949     -0.11     -0.08',\n",
       " '1950     -0.18     -0.08',\n",
       " '1951     -0.07     -0.07',\n",
       " '1952      0.01     -0.07',\n",
       " '1953      0.08     -0.07',\n",
       " '1954     -0.13     -0.07',\n",
       " '1955     -0.14     -0.06',\n",
       " '1956     -0.19     -0.05',\n",
       " '1957      0.05     -0.04',\n",
       " '1958      0.06     -0.01',\n",
       " '1959      0.03      0.01',\n",
       " '1960     -0.03      0.03',\n",
       " '1961      0.06      0.01',\n",
       " '1962      0.03     -0.01',\n",
       " '1963      0.05     -0.03',\n",
       " '1964     -0.20     -0.04',\n",
       " '1965     -0.11     -0.05',\n",
       " '1966     -0.06     -0.06',\n",
       " '1967     -0.02     -0.05',\n",
       " '1968     -0.08     -0.03',\n",
       " '1969      0.05     -0.02',\n",
       " '1970      0.03     -0.00',\n",
       " '1971     -0.08      0.00',\n",
       " '1972      0.01      0.00',\n",
       " '1973      0.16     -0.00',\n",
       " '1974     -0.07      0.00',\n",
       " '1975     -0.01      0.02',\n",
       " '1976     -0.10      0.04',\n",
       " '1977      0.18      0.07',\n",
       " '1978      0.07      0.12',\n",
       " '1979      0.16      0.16',\n",
       " '1980      0.26      0.20',\n",
       " '1981      0.32      0.21',\n",
       " '1982      0.14      0.21',\n",
       " '1983      0.31      0.21',\n",
       " '1984      0.16      0.21',\n",
       " '1985      0.12      0.22',\n",
       " '1986      0.18      0.24',\n",
       " '1987      0.32      0.27',\n",
       " '1988      0.39      0.31',\n",
       " '1989      0.27      0.33',\n",
       " '1990      0.45      0.33',\n",
       " '1991      0.41      0.33',\n",
       " '1992      0.22      0.33',\n",
       " '1993      0.23      0.33',\n",
       " '1994      0.32      0.34',\n",
       " '1995      0.45      0.37',\n",
       " '1996      0.33      0.40',\n",
       " '1997      0.46      0.42',\n",
       " '1998      0.61      0.44',\n",
       " '1999      0.38      0.47',\n",
       " '2000      0.39      0.50',\n",
       " '2001      0.54      0.52',\n",
       " '2002      0.63      0.55',\n",
       " '2003      0.62      0.59',\n",
       " '2004      0.54      0.61',\n",
       " '2005      0.68      0.62',\n",
       " '2006      0.64      0.63',\n",
       " '2007      0.67      0.64',\n",
       " '2008      0.55      0.64',\n",
       " '2009      0.66      0.65',\n",
       " '2010      0.72      0.65',\n",
       " '2011      0.61      0.67',\n",
       " '2012      0.65      0.70',\n",
       " '2013      0.68      0.74',\n",
       " '2014      0.75      0.79',\n",
       " '2015      0.90      0.83',\n",
       " '2016      1.02      0.88',\n",
       " '2017      0.93      0.91',\n",
       " '2018      0.85      0.95',\n",
       " '2019      0.98      0.98',\n",
       " '2020      1.02      1.01',\n",
       " '']"
      ]
     },
     "execution_count": 96,
     "metadata": {},
     "output_type": "execute_result"
    }
   ],
   "source": [
    "txt = web.text.split(\"\\n\")[5:]\n",
    "txt"
   ]
  },
  {
   "cell_type": "markdown",
   "id": "detailed-large",
   "metadata": {},
   "source": [
    "# Exploring the Data"
   ]
  },
  {
   "cell_type": "code",
   "execution_count": 60,
   "id": "inappropriate-capture",
   "metadata": {},
   "outputs": [],
   "source": [
    "import matplotlib.pyplot as plt"
   ]
  },
  {
   "cell_type": "code",
   "execution_count": 73,
   "id": "sacred-person",
   "metadata": {},
   "outputs": [
    {
     "name": "stdout",
     "output_type": "stream",
     "text": [
      "carbon_dioxide_co2_emissions_without_land_use_land_use_change_and_forestry_lulucf_in_kilotonne_co2_equivalent\n",
      "\n",
      "greenhouse_gas_ghgs_emissions_including_indirect_co2_without_lulucf_in_kilotonne_co2_equivalent\n",
      "\n",
      "greenhouse_gas_ghgs_emissions_without_land_use_land_use_change_and_forestry_lulucf_in_kilotonne_co2_equivalent\n",
      "\n",
      "hydrofluorocarbons_hfcs_emissions_in_kilotonne_co2_equivalent\n",
      "\n",
      "methane_ch4_emissions_without_land_use_land_use_change_and_forestry_lulucf_in_kilotonne_co2_equivalent\n",
      "\n",
      "nitrogen_trifluoride_nf3_emissions_in_kilotonne_co2_equivalent\n",
      "\n",
      "nitrous_oxide_n2o_emissions_without_land_use_land_use_change_and_forestry_lulucf_in_kilotonne_co2_equivalent\n",
      "\n",
      "perfluorocarbons_pfcs_emissions_in_kilotonne_co2_equivalent\n",
      "\n",
      "sulphur_hexafluoride_sf6_emissions_in_kilotonne_co2_equivalent\n",
      "\n",
      "unspecified_mix_of_hydrofluorocarbons_hfcs_and_perfluorocarbons_pfcs_emissions_in_kilotonne_co2_equivalent\n",
      "\n"
     ]
    }
   ],
   "source": [
    "for s in ghg_data.category.drop_duplicates().values:\n",
    "    print(s + \"\\n\")"
   ]
  },
  {
   "cell_type": "code",
   "execution_count": 72,
   "id": "differential-mistake",
   "metadata": {
    "scrolled": true
   },
   "outputs": [
    {
     "data": {
      "text/html": [
       "<div>\n",
       "<style scoped>\n",
       "    .dataframe tbody tr th:only-of-type {\n",
       "        vertical-align: middle;\n",
       "    }\n",
       "\n",
       "    .dataframe tbody tr th {\n",
       "        vertical-align: top;\n",
       "    }\n",
       "\n",
       "    .dataframe thead th {\n",
       "        text-align: right;\n",
       "    }\n",
       "</style>\n",
       "<table border=\"1\" class=\"dataframe\">\n",
       "  <thead>\n",
       "    <tr style=\"text-align: right;\">\n",
       "      <th></th>\n",
       "      <th>CO2</th>\n",
       "      <th>GHGs_1</th>\n",
       "      <th>GHGs_2</th>\n",
       "      <th>HFCs</th>\n",
       "      <th>CH4</th>\n",
       "      <th>NF3</th>\n",
       "      <th>N2O</th>\n",
       "      <th>PFCs</th>\n",
       "      <th>SF6</th>\n",
       "      <th>HFCs_PFCs_mix</th>\n",
       "    </tr>\n",
       "    <tr>\n",
       "      <th>year</th>\n",
       "      <th></th>\n",
       "      <th></th>\n",
       "      <th></th>\n",
       "      <th></th>\n",
       "      <th></th>\n",
       "      <th></th>\n",
       "      <th></th>\n",
       "      <th></th>\n",
       "      <th></th>\n",
       "      <th></th>\n",
       "    </tr>\n",
       "  </thead>\n",
       "  <tbody>\n",
       "    <tr>\n",
       "      <th>1990</th>\n",
       "      <td>455379.936166</td>\n",
       "      <td>633243.305620</td>\n",
       "      <td>587003.637294</td>\n",
       "      <td>6616.886179</td>\n",
       "      <td>87094.095299</td>\n",
       "      <td>18.383797</td>\n",
       "      <td>36194.407289</td>\n",
       "      <td>3838.874861</td>\n",
       "      <td>2074.533801</td>\n",
       "      <td>3901.551150</td>\n",
       "    </tr>\n",
       "    <tr>\n",
       "      <th>1991</th>\n",
       "      <td>446193.986253</td>\n",
       "      <td>618145.225307</td>\n",
       "      <td>573555.753951</td>\n",
       "      <td>6159.500972</td>\n",
       "      <td>84511.860775</td>\n",
       "      <td>18.871227</td>\n",
       "      <td>34748.195912</td>\n",
       "      <td>3523.418645</td>\n",
       "      <td>2055.211806</td>\n",
       "      <td>3680.115869</td>\n",
       "    </tr>\n",
       "    <tr>\n",
       "      <th>1992</th>\n",
       "      <td>431901.700232</td>\n",
       "      <td>597397.641955</td>\n",
       "      <td>554945.603744</td>\n",
       "      <td>5290.472902</td>\n",
       "      <td>81528.146297</td>\n",
       "      <td>19.408413</td>\n",
       "      <td>33609.735740</td>\n",
       "      <td>3198.749121</td>\n",
       "      <td>2059.102498</td>\n",
       "      <td>3672.904628</td>\n",
       "    </tr>\n",
       "    <tr>\n",
       "      <th>1993</th>\n",
       "      <td>426304.676894</td>\n",
       "      <td>588482.640738</td>\n",
       "      <td>546260.074250</td>\n",
       "      <td>4992.882331</td>\n",
       "      <td>79167.104710</td>\n",
       "      <td>23.278081</td>\n",
       "      <td>32976.558788</td>\n",
       "      <td>3174.231901</td>\n",
       "      <td>2075.474610</td>\n",
       "      <td>3672.738024</td>\n",
       "    </tr>\n",
       "    <tr>\n",
       "      <th>1994</th>\n",
       "      <td>421997.498173</td>\n",
       "      <td>580717.203385</td>\n",
       "      <td>539429.916433</td>\n",
       "      <td>5127.461987</td>\n",
       "      <td>77076.932886</td>\n",
       "      <td>25.988809</td>\n",
       "      <td>32253.689517</td>\n",
       "      <td>2977.335790</td>\n",
       "      <td>2029.666582</td>\n",
       "      <td>3855.997597</td>\n",
       "    </tr>\n",
       "  </tbody>\n",
       "</table>\n",
       "</div>"
      ],
      "text/plain": [
       "                CO2         GHGs_1         GHGs_2         HFCs           CH4  \\\n",
       "year                                                                           \n",
       "1990  455379.936166  633243.305620  587003.637294  6616.886179  87094.095299   \n",
       "1991  446193.986253  618145.225307  573555.753951  6159.500972  84511.860775   \n",
       "1992  431901.700232  597397.641955  554945.603744  5290.472902  81528.146297   \n",
       "1993  426304.676894  588482.640738  546260.074250  4992.882331  79167.104710   \n",
       "1994  421997.498173  580717.203385  539429.916433  5127.461987  77076.932886   \n",
       "\n",
       "            NF3           N2O         PFCs          SF6  HFCs_PFCs_mix  \n",
       "year                                                                    \n",
       "1990  18.383797  36194.407289  3838.874861  2074.533801    3901.551150  \n",
       "1991  18.871227  34748.195912  3523.418645  2055.211806    3680.115869  \n",
       "1992  19.408413  33609.735740  3198.749121  2059.102498    3672.904628  \n",
       "1993  23.278081  32976.558788  3174.231901  2075.474610    3672.738024  \n",
       "1994  25.988809  32253.689517  2977.335790  2029.666582    3855.997597  "
      ]
     },
     "execution_count": 72,
     "metadata": {},
     "output_type": "execute_result"
    }
   ],
   "source": [
    "df = ghg_data.pivot_table(index=\"year\", columns=[\"category\"])\n",
    "df.columns = df.columns.droplevel()\n",
    "df.columns = [\"CO2\", \"GHGs_1\", \"GHGs_2\", \"HFCs\", \"CH4\", \"NF3\", \"N2O\", \"PFCs\", \"SF6\", \"HFCs_PFCs_mix\"]\n",
    "df.head()"
   ]
  },
  {
   "cell_type": "code",
   "execution_count": 34,
   "id": "typical-crazy",
   "metadata": {
    "scrolled": true
   },
   "outputs": [
    {
     "data": {
      "image/png": "[encoded data removed]",
      "text/plain": [
       "<Figure size 432x288 with 1 Axes>"
      ]
     },
     "metadata": {
      "needs_background": "light"
     },
     "output_type": "display_data"
    }
   ],
   "source": [
    "df.plot()\n",
    "plt.legend(bbox_to_anchor=(1,1), loc=\"upper left\");"
   ]
  },
  {
   "cell_type": "code",
   "execution_count": 55,
   "id": "still-judge",
   "metadata": {
    "scrolled": false
   },
   "outputs": [
    {
     "data": {
      "text/plain": [
       "<AxesSubplot:xlabel='year'>"
      ]
     },
     "execution_count": 55,
     "metadata": {},
     "output_type": "execute_result"
    },
    {
     "data": {
      "image/png": "[encoded data removed]",
      "text/plain": [
       "<Figure size 1080x720 with 9 Axes>"
      ]
     },
     "metadata": {
      "needs_background": "light"
     },
     "output_type": "display_data"
    }
   ],
   "source": [
    "fig, ax = plt.subplots(nrows=3, ncols=3, figsize=(15, 10))\n",
    "df[\"CO2\"].plot(ax=ax[0][0])\n",
    "df[\"GHGs_1\"].plot(ax=ax[0][1])\n",
    "df[\"GHGs_2\"].plot(ax=ax[0][2])\n",
    "df[\"HFCs\"].plot(ax=ax[1][0])\n",
    "df[\"CH4\"].plot(ax=ax[1][1])\n",
    "df[\"NF3\"].plot(ax=ax[1][2])"
   ]
  },
  {
   "cell_type": "code",
   "execution_count": 56,
   "id": "renewable-dancing",
   "metadata": {},
   "outputs": [
    {
     "data": {
      "text/plain": [
       "year\n",
       "1990    1.815366e+06\n",
       "1991    1.772592e+06\n",
       "1992    1.713623e+06\n",
       "1993    1.687130e+06\n",
       "1994    1.665492e+06\n",
       "1995    1.674836e+06\n",
       "1996    1.699746e+06\n",
       "1997    1.684301e+06\n",
       "1998    1.676323e+06\n",
       "1999    1.664722e+06\n",
       "2000    1.681053e+06\n",
       "2001    1.682121e+06\n",
       "2002    1.682166e+06\n",
       "2003    1.705650e+06\n",
       "2004    1.722046e+06\n",
       "2005    1.722226e+06\n",
       "2006    1.723244e+06\n",
       "2007    1.730025e+06\n",
       "2008    1.694070e+06\n",
       "2009    1.588392e+06\n",
       "2010    1.634744e+06\n",
       "2011    1.615662e+06\n",
       "2012    1.597272e+06\n",
       "2013    1.592882e+06\n",
       "2014    1.606805e+06\n",
       "dtype: float64"
      ]
     },
     "execution_count": 56,
     "metadata": {},
     "output_type": "execute_result"
    }
   ],
   "source": [
    "df_sum = df.sum(axis=1)\n",
    "df_sum"
   ]
  },
  {
   "cell_type": "code",
   "execution_count": 58,
   "id": "attempted-monster",
   "metadata": {
    "scrolled": true
   },
   "outputs": [
    {
     "data": {
      "image/png": "[encoded data removed]",
      "text/plain": [
       "<Figure size 432x288 with 1 Axes>"
      ]
     },
     "metadata": {
      "needs_background": "light"
     },
     "output_type": "display_data"
    }
   ],
   "source": [
    "df_sum.plot();"
   ]
  },
  {
   "cell_type": "markdown",
   "id": "otherwise-corporation",
   "metadata": {},
   "source": [
    "# Extra"
   ]
  },
  {
   "cell_type": "code",
   "execution_count": 6,
   "id": "irish-religious",
   "metadata": {
    "scrolled": false
   },
   "outputs": [
    {
     "data": {
      "text/html": [
       "<div>\n",
       "<style scoped>\n",
       "    .dataframe tbody tr th:only-of-type {\n",
       "        vertical-align: middle;\n",
       "    }\n",
       "\n",
       "    .dataframe tbody tr th {\n",
       "        vertical-align: top;\n",
       "    }\n",
       "\n",
       "    .dataframe thead th {\n",
       "        text-align: right;\n",
       "    }\n",
       "</style>\n",
       "<table border=\"1\" class=\"dataframe\">\n",
       "  <thead>\n",
       "    <tr style=\"text-align: right;\">\n",
       "      <th></th>\n",
       "      <th></th>\n",
       "      <th>value</th>\n",
       "    </tr>\n",
       "    <tr>\n",
       "      <th>category</th>\n",
       "      <th>year</th>\n",
       "      <th></th>\n",
       "    </tr>\n",
       "  </thead>\n",
       "  <tbody>\n",
       "    <tr>\n",
       "      <th rowspan=\"5\" valign=\"top\">carbon_dioxide_co2_emissions_without_land_use_land_use_change_and_forestry_lulucf_in_kilotonne_co2_equivalent</th>\n",
       "      <th>1990</th>\n",
       "      <td>455379.936166</td>\n",
       "    </tr>\n",
       "    <tr>\n",
       "      <th>1991</th>\n",
       "      <td>446193.986253</td>\n",
       "    </tr>\n",
       "    <tr>\n",
       "      <th>1992</th>\n",
       "      <td>431901.700232</td>\n",
       "    </tr>\n",
       "    <tr>\n",
       "      <th>1993</th>\n",
       "      <td>426304.676894</td>\n",
       "    </tr>\n",
       "    <tr>\n",
       "      <th>1994</th>\n",
       "      <td>421997.498173</td>\n",
       "    </tr>\n",
       "    <tr>\n",
       "      <th>...</th>\n",
       "      <th>...</th>\n",
       "      <td>...</td>\n",
       "    </tr>\n",
       "    <tr>\n",
       "      <th rowspan=\"5\" valign=\"top\">unspecified_mix_of_hydrofluorocarbons_hfcs_and_perfluorocarbons_pfcs_emissions_in_kilotonne_co2_equivalent</th>\n",
       "      <th>2010</th>\n",
       "      <td>2831.560342</td>\n",
       "    </tr>\n",
       "    <tr>\n",
       "      <th>2011</th>\n",
       "      <td>2843.941788</td>\n",
       "    </tr>\n",
       "    <tr>\n",
       "      <th>2012</th>\n",
       "      <td>2982.863196</td>\n",
       "    </tr>\n",
       "    <tr>\n",
       "      <th>2013</th>\n",
       "      <td>3126.871854</td>\n",
       "    </tr>\n",
       "    <tr>\n",
       "      <th>2014</th>\n",
       "      <td>3251.263226</td>\n",
       "    </tr>\n",
       "  </tbody>\n",
       "</table>\n",
       "<p>250 rows × 1 columns</p>\n",
       "</div>"
      ],
      "text/plain": [
       "                                                                 value\n",
       "category                                           year               \n",
       "carbon_dioxide_co2_emissions_without_land_use_l... 1990  455379.936166\n",
       "                                                   1991  446193.986253\n",
       "                                                   1992  431901.700232\n",
       "                                                   1993  426304.676894\n",
       "                                                   1994  421997.498173\n",
       "...                                                                ...\n",
       "unspecified_mix_of_hydrofluorocarbons_hfcs_and_... 2010    2831.560342\n",
       "                                                   2011    2843.941788\n",
       "                                                   2012    2982.863196\n",
       "                                                   2013    3126.871854\n",
       "                                                   2014    3251.263226\n",
       "\n",
       "[250 rows x 1 columns]"
      ]
     },
     "execution_count": 6,
     "metadata": {},
     "output_type": "execute_result"
    }
   ],
   "source": [
    "data = raw_data.groupby([\"category\", \"year\"]).mean()\n",
    "data"
   ]
  },
  {
   "cell_type": "code",
   "execution_count": 7,
   "id": "tropical-bachelor",
   "metadata": {},
   "outputs": [
    {
     "data": {
      "text/plain": [
       "FrozenList(['category', 'year'])"
      ]
     },
     "execution_count": 7,
     "metadata": {},
     "output_type": "execute_result"
    }
   ],
   "source": [
    "data.index.names"
   ]
  },
  {
   "cell_type": "code",
   "execution_count": 8,
   "id": "floating-pharmaceutical",
   "metadata": {
    "scrolled": false
   },
   "outputs": [
    {
     "data": {
      "text/plain": [
       "<AxesSubplot:xlabel='year'>"
      ]
     },
     "execution_count": 8,
     "metadata": {},
     "output_type": "execute_result"
    },
    {
     "data": {
      "image/png": "[encoded data removed]",
      "text/plain": [
       "<Figure size 432x288 with 1 Axes>"
      ]
     },
     "metadata": {
      "needs_background": "light"
     },
     "output_type": "display_data"
    }
   ],
   "source": [
    "s = \"carbon_dioxide_co2_emissions_without_land_use_land_use_change_and_forestry_lulucf_in_kilotonne_co2_equivalent\"\n",
    "data.loc[s, \"value\"].plot()"
   ]
  }
 ],
 "metadata": {
  "kernelspec": {
   "display_name": "Python 3",
   "language": "python",
   "name": "python3"
  },
  "language_info": {
   "codemirror_mode": {
    "name": "ipython",
    "version": 3
   },
   "file_extension": ".py",
   "mimetype": "text/x-python",
   "name": "python",
   "nbconvert_exporter": "python",
   "pygments_lexer": "ipython3",
   "version": "3.8.6"
  }
 },
 "nbformat": 4,
 "nbformat_minor": 5
}
