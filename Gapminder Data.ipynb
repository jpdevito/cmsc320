{
 "cells": [
  {
   "cell_type": "markdown",
   "id": "secure-benjamin",
   "metadata": {},
   "source": [
    "# Regression analysis of Gapminder data"
   ]
  },
  {
   "cell_type": "code",
   "execution_count": 1,
   "id": "industrial-favor",
   "metadata": {},
   "outputs": [],
   "source": [
    "import pandas as pd\n",
    "import numpy as np\n",
    "import matplotlib.pyplot as plt\n",
    "from sklearn.linear_model import LinearRegression"
   ]
  },
  {
   "cell_type": "code",
   "execution_count": 2,
   "id": "duplicate-halifax",
   "metadata": {
    "scrolled": true
   },
   "outputs": [
    {
     "data": {
      "text/html": [
       "<div>\n",
       "<style scoped>\n",
       "    .dataframe tbody tr th:only-of-type {\n",
       "        vertical-align: middle;\n",
       "    }\n",
       "\n",
       "    .dataframe tbody tr th {\n",
       "        vertical-align: top;\n",
       "    }\n",
       "\n",
       "    .dataframe thead th {\n",
       "        text-align: right;\n",
       "    }\n",
       "</style>\n",
       "<table border=\"1\" class=\"dataframe\">\n",
       "  <thead>\n",
       "    <tr style=\"text-align: right;\">\n",
       "      <th></th>\n",
       "      <th>country</th>\n",
       "      <th>continent</th>\n",
       "      <th>year</th>\n",
       "      <th>lifeExp</th>\n",
       "      <th>pop</th>\n",
       "      <th>gdpPercap</th>\n",
       "    </tr>\n",
       "  </thead>\n",
       "  <tbody>\n",
       "    <tr>\n",
       "      <th>0</th>\n",
       "      <td>Afghanistan</td>\n",
       "      <td>Asia</td>\n",
       "      <td>1952</td>\n",
       "      <td>28.801</td>\n",
       "      <td>8425333</td>\n",
       "      <td>779.445314</td>\n",
       "    </tr>\n",
       "    <tr>\n",
       "      <th>1</th>\n",
       "      <td>Afghanistan</td>\n",
       "      <td>Asia</td>\n",
       "      <td>1957</td>\n",
       "      <td>30.332</td>\n",
       "      <td>9240934</td>\n",
       "      <td>820.853030</td>\n",
       "    </tr>\n",
       "    <tr>\n",
       "      <th>2</th>\n",
       "      <td>Afghanistan</td>\n",
       "      <td>Asia</td>\n",
       "      <td>1962</td>\n",
       "      <td>31.997</td>\n",
       "      <td>10267083</td>\n",
       "      <td>853.100710</td>\n",
       "    </tr>\n",
       "    <tr>\n",
       "      <th>3</th>\n",
       "      <td>Afghanistan</td>\n",
       "      <td>Asia</td>\n",
       "      <td>1967</td>\n",
       "      <td>34.020</td>\n",
       "      <td>11537966</td>\n",
       "      <td>836.197138</td>\n",
       "    </tr>\n",
       "    <tr>\n",
       "      <th>4</th>\n",
       "      <td>Afghanistan</td>\n",
       "      <td>Asia</td>\n",
       "      <td>1972</td>\n",
       "      <td>36.088</td>\n",
       "      <td>13079460</td>\n",
       "      <td>739.981106</td>\n",
       "    </tr>\n",
       "  </tbody>\n",
       "</table>\n",
       "</div>"
      ],
      "text/plain": [
       "       country continent  year  lifeExp       pop   gdpPercap\n",
       "0  Afghanistan      Asia  1952   28.801   8425333  779.445314\n",
       "1  Afghanistan      Asia  1957   30.332   9240934  820.853030\n",
       "2  Afghanistan      Asia  1962   31.997  10267083  853.100710\n",
       "3  Afghanistan      Asia  1967   34.020  11537966  836.197138\n",
       "4  Afghanistan      Asia  1972   36.088  13079460  739.981106"
      ]
     },
     "execution_count": 2,
     "metadata": {},
     "output_type": "execute_result"
    }
   ],
   "source": [
    "data = pd.read_csv(\"gap.tsv\", sep=\"\\t\")\n",
    "data.head()"
   ]
  },
  {
   "cell_type": "markdown",
   "id": "confirmed-office",
   "metadata": {},
   "source": [
    "### Exercise 1"
   ]
  },
  {
   "cell_type": "code",
   "execution_count": 3,
   "id": "distinguished-fiction",
   "metadata": {
    "scrolled": true
   },
   "outputs": [
    {
     "data": {
      "image/png": "[encoded data removed]",
      "text/plain": [
       "<Figure size 432x288 with 1 Axes>"
      ]
     },
     "metadata": {
      "needs_background": "light"
     },
     "output_type": "display_data"
    }
   ],
   "source": [
    "plt.scatter(data=data, x=\"year\", y=\"lifeExp\")\n",
    "plt.xlabel(\"Year\")\n",
    "plt.ylabel(\"Life Expectancy in Years\")\n",
    "plt.title(\"Scatter Plot of Life Expectancy Over Time\");"
   ]
  },
  {
   "cell_type": "markdown",
   "id": "painted-stock",
   "metadata": {},
   "source": [
    "### Question 1\n",
    "The plot shows a general trend of increasing life expectancy over time. It looks like a linear trend, however it is difficult to know for sure given that the change appears only slight over this time interval."
   ]
  },
  {
   "cell_type": "code",
   "execution_count": 4,
   "id": "wooden-blocking",
   "metadata": {},
   "outputs": [],
   "source": [
    "# gets list of lists -> life expectancy for each country for each year\n",
    "life_exp_per_year = data.groupby(\"year\")[\"lifeExp\"].apply(list)\n",
    "# gets list of the years of data collection\n",
    "years = data.year.drop_duplicates()"
   ]
  },
  {
   "cell_type": "code",
   "execution_count": 5,
   "id": "absolute-tuition",
   "metadata": {
    "scrolled": false
   },
   "outputs": [
    {
     "data": {
      "image/png": "[encoded data removed]",
      "text/plain": [
       "<Figure size 432x288 with 1 Axes>"
      ]
     },
     "metadata": {
      "needs_background": "light"
     },
     "output_type": "display_data"
    }
   ],
   "source": [
    "plt.violinplot(life_exp_per_year, years, widths=4, showmeans=True)\n",
    "plt.xlabel(\"Year\")\n",
    "plt.ylabel(\"Life Expectancy in Years\")\n",
    "plt.title(\"Violin Plot of Life Expectancy Over Time\");"
   ]
  },
  {
   "cell_type": "markdown",
   "id": "devoted-cannon",
   "metadata": {},
   "source": [
    "### Question 2\n",
    "The graph for individual years seems to be bimodal, with one mode above the mean and one below. In 1950-1960 it appears that most countries are below the mean life expectancy, and the graph is skewed toward the higher life expectancies. The skew decreases with time, however, and flips around 1970, where the two modes seem similar in size. By the 2000s the graph is skewed the other direction in an significant way."
   ]
  },
  {
   "cell_type": "markdown",
   "id": "unnecessary-lecture",
   "metadata": {},
   "source": [
    "### Question 3\n",
    "I would reject the null hypothesisis of no relationship between life expectancy and time because mean life expectancy increases for every year measured in this dataset."
   ]
  },
  {
   "cell_type": "markdown",
   "id": "acquired-vaccine",
   "metadata": {},
   "source": [
    "### Question 4\n",
    "I think that a violin plot of the residuals from a linear regression model would look similar to the one I already plotted except the means would be around zero for each year, so it would be without the general upward trend. That's because the residuals are the values relative to the linear model at that year, which would be close to the mean life expectancy for that year (I don't think the difference in the model's prediction and the mean would be significant)."
   ]
  },
  {
   "cell_type": "markdown",
   "id": "coated-distributor",
   "metadata": {},
   "source": [
    "### Question 5\n",
    "The simple linear model of life expectancy vs. year is inherently assuming that there are no other variables affecting life expectancy, and that the distribution of life expectancies would be centered around the mean for each year. This does not seem to true, however, because just by looking at the violin plot in question 1 you can see the distributions are not centered around the mean."
   ]
  },
  {
   "cell_type": "markdown",
   "id": "filled-rhythm",
   "metadata": {},
   "source": [
    "### Exercise 2"
   ]
  },
  {
   "cell_type": "code",
   "execution_count": 6,
   "id": "neither-basin",
   "metadata": {
    "scrolled": false
   },
   "outputs": [],
   "source": [
    "# training data\n",
    "X = data.year.values.reshape(-1, 1) # LinearRegression() requires a 2D array for samples\n",
    "# target data\n",
    "y = data.lifeExp\n",
    "\n",
    "reg = LinearRegression().fit(X, y)"
   ]
  },
  {
   "cell_type": "code",
   "execution_count": 7,
   "id": "based-people",
   "metadata": {
    "scrolled": false
   },
   "outputs": [
    {
     "data": {
      "text/html": [
       "<div>\n",
       "<style scoped>\n",
       "    .dataframe tbody tr th:only-of-type {\n",
       "        vertical-align: middle;\n",
       "    }\n",
       "\n",
       "    .dataframe tbody tr th {\n",
       "        vertical-align: top;\n",
       "    }\n",
       "\n",
       "    .dataframe thead th {\n",
       "        text-align: right;\n",
       "    }\n",
       "</style>\n",
       "<table border=\"1\" class=\"dataframe\">\n",
       "  <thead>\n",
       "    <tr style=\"text-align: right;\">\n",
       "      <th></th>\n",
       "      <th>predictedLifeExp</th>\n",
       "    </tr>\n",
       "  </thead>\n",
       "  <tbody>\n",
       "    <tr>\n",
       "      <th>1950</th>\n",
       "      <td>49.860276</td>\n",
       "    </tr>\n",
       "    <tr>\n",
       "      <th>1955</th>\n",
       "      <td>51.489796</td>\n",
       "    </tr>\n",
       "    <tr>\n",
       "      <th>1960</th>\n",
       "      <td>53.119315</td>\n",
       "    </tr>\n",
       "    <tr>\n",
       "      <th>1965</th>\n",
       "      <td>54.748834</td>\n",
       "    </tr>\n",
       "    <tr>\n",
       "      <th>1970</th>\n",
       "      <td>56.378353</td>\n",
       "    </tr>\n",
       "    <tr>\n",
       "      <th>1975</th>\n",
       "      <td>58.007872</td>\n",
       "    </tr>\n",
       "    <tr>\n",
       "      <th>1980</th>\n",
       "      <td>59.637391</td>\n",
       "    </tr>\n",
       "    <tr>\n",
       "      <th>1985</th>\n",
       "      <td>61.266910</td>\n",
       "    </tr>\n",
       "    <tr>\n",
       "      <th>1990</th>\n",
       "      <td>62.896430</td>\n",
       "    </tr>\n",
       "    <tr>\n",
       "      <th>1995</th>\n",
       "      <td>64.525949</td>\n",
       "    </tr>\n",
       "    <tr>\n",
       "      <th>2000</th>\n",
       "      <td>66.155468</td>\n",
       "    </tr>\n",
       "    <tr>\n",
       "      <th>2005</th>\n",
       "      <td>67.784987</td>\n",
       "    </tr>\n",
       "    <tr>\n",
       "      <th>2010</th>\n",
       "      <td>69.414506</td>\n",
       "    </tr>\n",
       "  </tbody>\n",
       "</table>\n",
       "</div>"
      ],
      "text/plain": [
       "      predictedLifeExp\n",
       "1950         49.860276\n",
       "1955         51.489796\n",
       "1960         53.119315\n",
       "1965         54.748834\n",
       "1970         56.378353\n",
       "1975         58.007872\n",
       "1980         59.637391\n",
       "1985         61.266910\n",
       "1990         62.896430\n",
       "1995         64.525949\n",
       "2000         66.155468\n",
       "2005         67.784987\n",
       "2010         69.414506"
      ]
     },
     "execution_count": 7,
     "metadata": {},
     "output_type": "execute_result"
    }
   ],
   "source": [
    "# prints the predicted values for every five years from 1950-2010\n",
    "years_range = np.array(list(range(1950, 2011, 5)))\n",
    "reg_df = pd.DataFrame(reg.predict(years_range.reshape(-1, 1))).set_index(years_range)\n",
    "reg_df.columns = [\"predictedLifeExp\"]\n",
    "\n",
    "reg_df"
   ]
  },
  {
   "cell_type": "markdown",
   "id": "signal-likelihood",
   "metadata": {},
   "source": [
    "I decided to print the fitted model as a list of values (above) because I thought it would be an easy way to see the kind of predictions the model was making."
   ]
  },
  {
   "cell_type": "code",
   "execution_count": 8,
   "id": "taken-complement",
   "metadata": {},
   "outputs": [
    {
     "data": {
      "text/plain": [
       "-585.6521874415448"
      ]
     },
     "execution_count": 8,
     "metadata": {},
     "output_type": "execute_result"
    }
   ],
   "source": [
    "reg.intercept_"
   ]
  },
  {
   "cell_type": "code",
   "execution_count": 9,
   "id": "enormous-sierra",
   "metadata": {
    "scrolled": true
   },
   "outputs": [
    {
     "data": {
      "text/plain": [
       "array([0.32590383])"
      ]
     },
     "execution_count": 9,
     "metadata": {},
     "output_type": "execute_result"
    }
   ],
   "source": [
    "reg.coef_"
   ]
  },
  {
   "cell_type": "markdown",
   "id": "ultimate-necessity",
   "metadata": {},
   "source": [
    "The values above give the y-intercept and the slope, so the model in \"y = mx + b\" format would be:\n",
    "\n",
    "$predicted\\ life\\ expectancy = (0.32590383 * year) - 585.6521874415448$"
   ]
  },
  {
   "cell_type": "markdown",
   "id": "taken-eight",
   "metadata": {},
   "source": [
    "### Question 6\n",
    "According to my linear regression model, life expectancy increases by about 0.326 years on average every year around the world. This can be seen from the value of `reg.coef_` in exercise 2."
   ]
  },
  {
   "cell_type": "markdown",
   "id": "genuine-lighting",
   "metadata": {},
   "source": [
    "### Question 7\n",
    "I reject the null hypothesis of no relationship between year and life expectancy because the slope of the linear regression seems to be significantly greater than zero, which matches what I predicted the relationship was by just looking at the violin plot."
   ]
  },
  {
   "cell_type": "markdown",
   "id": "subsequent-lottery",
   "metadata": {},
   "source": [
    "### Exercise 3"
   ]
  },
  {
   "cell_type": "code",
   "execution_count": 10,
   "id": "environmental-writer",
   "metadata": {
    "scrolled": true
   },
   "outputs": [
    {
     "data": {
      "text/html": [
       "<div>\n",
       "<style scoped>\n",
       "    .dataframe tbody tr th:only-of-type {\n",
       "        vertical-align: middle;\n",
       "    }\n",
       "\n",
       "    .dataframe tbody tr th {\n",
       "        vertical-align: top;\n",
       "    }\n",
       "\n",
       "    .dataframe thead th {\n",
       "        text-align: right;\n",
       "    }\n",
       "</style>\n",
       "<table border=\"1\" class=\"dataframe\">\n",
       "  <thead>\n",
       "    <tr style=\"text-align: right;\">\n",
       "      <th></th>\n",
       "      <th>country</th>\n",
       "      <th>continent</th>\n",
       "      <th>year</th>\n",
       "      <th>lifeExp</th>\n",
       "      <th>pop</th>\n",
       "      <th>gdpPercap</th>\n",
       "      <th>lifeExpResid</th>\n",
       "    </tr>\n",
       "  </thead>\n",
       "  <tbody>\n",
       "    <tr>\n",
       "      <th>0</th>\n",
       "      <td>Afghanistan</td>\n",
       "      <td>Asia</td>\n",
       "      <td>1952</td>\n",
       "      <td>28.801</td>\n",
       "      <td>8425333</td>\n",
       "      <td>779.445314</td>\n",
       "      <td>-21.711084</td>\n",
       "    </tr>\n",
       "    <tr>\n",
       "      <th>1</th>\n",
       "      <td>Afghanistan</td>\n",
       "      <td>Asia</td>\n",
       "      <td>1957</td>\n",
       "      <td>30.332</td>\n",
       "      <td>9240934</td>\n",
       "      <td>820.853030</td>\n",
       "      <td>-21.809603</td>\n",
       "    </tr>\n",
       "    <tr>\n",
       "      <th>2</th>\n",
       "      <td>Afghanistan</td>\n",
       "      <td>Asia</td>\n",
       "      <td>1962</td>\n",
       "      <td>31.997</td>\n",
       "      <td>10267083</td>\n",
       "      <td>853.100710</td>\n",
       "      <td>-21.774122</td>\n",
       "    </tr>\n",
       "    <tr>\n",
       "      <th>3</th>\n",
       "      <td>Afghanistan</td>\n",
       "      <td>Asia</td>\n",
       "      <td>1967</td>\n",
       "      <td>34.020</td>\n",
       "      <td>11537966</td>\n",
       "      <td>836.197138</td>\n",
       "      <td>-21.380642</td>\n",
       "    </tr>\n",
       "    <tr>\n",
       "      <th>4</th>\n",
       "      <td>Afghanistan</td>\n",
       "      <td>Asia</td>\n",
       "      <td>1972</td>\n",
       "      <td>36.088</td>\n",
       "      <td>13079460</td>\n",
       "      <td>739.981106</td>\n",
       "      <td>-20.942161</td>\n",
       "    </tr>\n",
       "  </tbody>\n",
       "</table>\n",
       "</div>"
      ],
      "text/plain": [
       "       country continent  year  lifeExp       pop   gdpPercap  lifeExpResid\n",
       "0  Afghanistan      Asia  1952   28.801   8425333  779.445314    -21.711084\n",
       "1  Afghanistan      Asia  1957   30.332   9240934  820.853030    -21.809603\n",
       "2  Afghanistan      Asia  1962   31.997  10267083  853.100710    -21.774122\n",
       "3  Afghanistan      Asia  1967   34.020  11537966  836.197138    -21.380642\n",
       "4  Afghanistan      Asia  1972   36.088  13079460  739.981106    -20.942161"
      ]
     },
     "execution_count": 10,
     "metadata": {},
     "output_type": "execute_result"
    }
   ],
   "source": [
    "# adds a residual column to the dataset for the life expectancy resiudual with a tuple to be transforms\n",
    "data[\"lifeExpResid\"] = list(zip(data.lifeExp, reg.predict(X)))\n",
    "\n",
    "# transforms the tuples of recorded and predicted life expectancy to the residual\n",
    "data[\"lifeExpResid\"] = data[\"lifeExpResid\"].transform(lambda tup: tup[0] - tup[1])\n",
    "\n",
    "data.head()"
   ]
  },
  {
   "cell_type": "code",
   "execution_count": 11,
   "id": "retained-sewing",
   "metadata": {},
   "outputs": [
    {
     "data": {
      "image/png": "[encoded data removed]",
      "text/plain": [
       "<Figure size 432x288 with 1 Axes>"
      ]
     },
     "metadata": {
      "needs_background": "light"
     },
     "output_type": "display_data"
    }
   ],
   "source": [
    "# makes a violin plot for resiudals vs year \n",
    "\n",
    "resid_per_year = data.groupby(\"year\")[\"lifeExpResid\"].apply(list)\n",
    "\n",
    "plt.violinplot(resid_per_year, years, widths=4, showmeans=True)\n",
    "plt.xlabel(\"Year\")\n",
    "plt.ylabel(\"Life Expectancy Residual (Years)\")\n",
    "plt.title(\"Life Expectancy Residuals Over Time\");"
   ]
  },
  {
   "cell_type": "markdown",
   "id": "naked-reliance",
   "metadata": {},
   "source": [
    "### Question 8\n",
    "This does match my expectations from question 4. The plot looks similar to the plot of life expectancy vs year, except it's standardized around *about* zero because the linear regression model's prediction is near the mean life expectancy for each year."
   ]
  },
  {
   "cell_type": "markdown",
   "id": "important-uncertainty",
   "metadata": {},
   "source": [
    "### Exercise 4"
   ]
  },
  {
   "cell_type": "code",
   "execution_count": 12,
   "id": "piano-decade",
   "metadata": {
    "scrolled": false
   },
   "outputs": [
    {
     "data": {
      "image/png": "[encoded data removed]",
      "text/plain": [
       "<Figure size 432x288 with 1 Axes>"
      ]
     },
     "metadata": {
      "needs_background": "light"
     },
     "output_type": "display_data"
    }
   ],
   "source": [
    "# makes a plot for resiudals vs continent across all yearsb\n",
    "\n",
    "resid_per_cont = data.groupby(\"continent\")[\"lifeExpResid\"].apply(list)\n",
    "continents = resid_per_cont.index.tolist() # for the tick labels\n",
    "\n",
    "ax = plt.subplot()\n",
    "plt.boxplot(resid_per_cont, showmeans=True)\n",
    "plt.xlabel(\"Continent\")\n",
    "plt.ylabel(\"Life Expectancy Residual (Years)\")\n",
    "ax.set_xticks([1, 2, 3, 4, 5])\n",
    "ax.set_xticklabels(continents)\n",
    "plt.title(\"Life Expectancy Residuals For Each Continent\");"
   ]
  },
  {
   "cell_type": "markdown",
   "id": "covered-mississippi",
   "metadata": {},
   "source": [
    "### Question 9\n",
    "There clearly seems to be a dependence between model residuals and continent, which suggests that when performing a regression analysis of life expectancy across time, using dummy variables to account for the categorical effect could result in a more accurate model."
   ]
  },
  {
   "cell_type": "markdown",
   "id": "retained-toilet",
   "metadata": {},
   "source": [
    "### Exercise 5"
   ]
  },
  {
   "cell_type": "code",
   "execution_count": 13,
   "id": "growing-mission",
   "metadata": {
    "scrolled": false
   },
   "outputs": [
    {
     "data": {
      "image/png": "[encoded data removed]",
      "text/plain": [
       "<Figure size 1440x720 with 5 Axes>"
      ]
     },
     "metadata": {
      "needs_background": "light"
     },
     "output_type": "display_data"
    }
   ],
   "source": [
    "# sets up the figure\n",
    "fig, ax = plt.subplots(nrows=2, ncols=3, figsize=(20, 10))\n",
    "fig.delaxes(ax[1][2])\n",
    "\n",
    "# plots data for Africa\n",
    "africa_data = data.loc[data[\"continent\"] == \"Africa\"]\n",
    "ax[0, 0].scatter(x=africa_data.year, y=africa_data.lifeExp)\n",
    "ax[0, 0].set_title(\"Life Expectancy vs. Year in Africa\")\n",
    "\n",
    "# plots linaer regression for Africa\n",
    "X = africa_data.year.values.reshape(-1, 1)\n",
    "y = africa_data.lifeExp\n",
    "reg = LinearRegression().fit(X, y)\n",
    "reg_df = pd.DataFrame(reg.predict(years_range.reshape(-1, 1))).set_index(years_range) # years_range from exercise 2\n",
    "ax[0, 0].plot(reg_df, color=\"darkorange\")\n",
    "\n",
    "# plots data for the Americas\n",
    "americas_data = data.loc[data[\"continent\"] == \"Americas\"]\n",
    "ax[0, 1].scatter(x=americas_data.year, y=americas_data.lifeExp)\n",
    "ax[0, 1].set_title(\"Life Expectancy vs. Year in the Americas\")\n",
    "\n",
    "# plots linaer regression for the Americas\n",
    "X = americas_data.year.values.reshape(-1, 1)\n",
    "y = americas_data.lifeExp\n",
    "reg = LinearRegression().fit(X, y)\n",
    "reg_df = pd.DataFrame(reg.predict(years_range.reshape(-1, 1))).set_index(years_range)\n",
    "ax[0, 1].plot(reg_df, color=\"darkorange\")\n",
    "\n",
    "# plots data for Asia\n",
    "asia_data = data.loc[data[\"continent\"] == \"Asia\"]\n",
    "ax[0, 2].scatter(x=asia_data.year, y=asia_data.lifeExp)\n",
    "ax[0, 2].set_title(\"Life Expectancy vs. Year in Asia\")\n",
    "\n",
    "# plots linaer regression for Asia\n",
    "X = asia_data.year.values.reshape(-1, 1)\n",
    "y = asia_data.lifeExp\n",
    "reg = LinearRegression().fit(X, y)\n",
    "reg_df = pd.DataFrame(reg.predict(years_range.reshape(-1, 1))).set_index(years_range)\n",
    "ax[0, 2].plot(reg_df, color=\"darkorange\")\n",
    "\n",
    "# plots data for Europe\n",
    "europe_data = data.loc[data[\"continent\"] == \"Europe\"]\n",
    "ax[1, 0].scatter(x=europe_data.year, y=europe_data.lifeExp)\n",
    "ax[1, 0].set_title(\"Life Expectancy vs. Year in Europe\")\n",
    "\n",
    "# plots linaer regression for Asia\n",
    "X = europe_data.year.values.reshape(-1, 1)\n",
    "y = europe_data.lifeExp\n",
    "reg = LinearRegression().fit(X, y)\n",
    "reg_df = pd.DataFrame(reg.predict(years_range.reshape(-1, 1))).set_index(years_range)\n",
    "ax[1, 0].plot(reg_df, color=\"darkorange\")\n",
    "\n",
    "# plots data for Oceania\n",
    "oceania_data = data.loc[data[\"continent\"] == \"Oceania\"]\n",
    "ax[1, 1].scatter(x=oceania_data.year, y=oceania_data.lifeExp)\n",
    "ax[1, 1].set_title(\"Life Expectancy vs. Year in Oceania\")\n",
    "\n",
    "# plots linaer regression for Asia\n",
    "X = oceania_data.year.values.reshape(-1, 1)\n",
    "y = oceania_data.lifeExp\n",
    "reg = LinearRegression().fit(X, y)\n",
    "reg_df = pd.DataFrame(reg.predict(years_range.reshape(-1, 1))).set_index(years_range)\n",
    "ax[1, 1].plot(reg_df, color=\"darkorange\")\n",
    "\n",
    "# axis titles and y axis limits for all subplotss\n",
    "plt.setp(ax, xlabel=\"Year\", ylabel=\"Life Expectancy (Years)\", ylim=(20, 90));"
   ]
  },
  {
   "cell_type": "markdown",
   "id": "mighty-backup",
   "metadata": {},
   "source": [
    "### Question 10\n",
    "This plot shows that my regression model should have an interaction term for continent and year because the effect of the year on a country's life expectancy is different in different continents; i.e. the slope and height of the continent-specific linear regressions above are different from each other."
   ]
  },
  {
   "cell_type": "markdown",
   "id": "weird-basin",
   "metadata": {},
   "source": [
    "### Exercise 6"
   ]
  },
  {
   "cell_type": "code",
   "execution_count": 14,
   "id": "complex-imagination",
   "metadata": {},
   "outputs": [
    {
     "data": {
      "text/html": [
       "<div>\n",
       "<style scoped>\n",
       "    .dataframe tbody tr th:only-of-type {\n",
       "        vertical-align: middle;\n",
       "    }\n",
       "\n",
       "    .dataframe tbody tr th {\n",
       "        vertical-align: top;\n",
       "    }\n",
       "\n",
       "    .dataframe thead th {\n",
       "        text-align: right;\n",
       "    }\n",
       "</style>\n",
       "<table border=\"1\" class=\"dataframe\">\n",
       "  <thead>\n",
       "    <tr style=\"text-align: right;\">\n",
       "      <th></th>\n",
       "      <th>year</th>\n",
       "      <th>lifeExp</th>\n",
       "      <th>continent_Americas</th>\n",
       "      <th>continent_Asia</th>\n",
       "      <th>continent_Europe</th>\n",
       "      <th>continent_Oceania</th>\n",
       "      <th>year*Asia</th>\n",
       "      <th>year*Europe</th>\n",
       "      <th>year*Americas</th>\n",
       "      <th>year*Oceania</th>\n",
       "    </tr>\n",
       "  </thead>\n",
       "  <tbody>\n",
       "    <tr>\n",
       "      <th>0</th>\n",
       "      <td>1952</td>\n",
       "      <td>28.801</td>\n",
       "      <td>0</td>\n",
       "      <td>1</td>\n",
       "      <td>0</td>\n",
       "      <td>0</td>\n",
       "      <td>1952</td>\n",
       "      <td>0</td>\n",
       "      <td>0</td>\n",
       "      <td>0</td>\n",
       "    </tr>\n",
       "    <tr>\n",
       "      <th>1</th>\n",
       "      <td>1957</td>\n",
       "      <td>30.332</td>\n",
       "      <td>0</td>\n",
       "      <td>1</td>\n",
       "      <td>0</td>\n",
       "      <td>0</td>\n",
       "      <td>1957</td>\n",
       "      <td>0</td>\n",
       "      <td>0</td>\n",
       "      <td>0</td>\n",
       "    </tr>\n",
       "    <tr>\n",
       "      <th>2</th>\n",
       "      <td>1962</td>\n",
       "      <td>31.997</td>\n",
       "      <td>0</td>\n",
       "      <td>1</td>\n",
       "      <td>0</td>\n",
       "      <td>0</td>\n",
       "      <td>1962</td>\n",
       "      <td>0</td>\n",
       "      <td>0</td>\n",
       "      <td>0</td>\n",
       "    </tr>\n",
       "    <tr>\n",
       "      <th>3</th>\n",
       "      <td>1967</td>\n",
       "      <td>34.020</td>\n",
       "      <td>0</td>\n",
       "      <td>1</td>\n",
       "      <td>0</td>\n",
       "      <td>0</td>\n",
       "      <td>1967</td>\n",
       "      <td>0</td>\n",
       "      <td>0</td>\n",
       "      <td>0</td>\n",
       "    </tr>\n",
       "    <tr>\n",
       "      <th>4</th>\n",
       "      <td>1972</td>\n",
       "      <td>36.088</td>\n",
       "      <td>0</td>\n",
       "      <td>1</td>\n",
       "      <td>0</td>\n",
       "      <td>0</td>\n",
       "      <td>1972</td>\n",
       "      <td>0</td>\n",
       "      <td>0</td>\n",
       "      <td>0</td>\n",
       "    </tr>\n",
       "    <tr>\n",
       "      <th>...</th>\n",
       "      <td>...</td>\n",
       "      <td>...</td>\n",
       "      <td>...</td>\n",
       "      <td>...</td>\n",
       "      <td>...</td>\n",
       "      <td>...</td>\n",
       "      <td>...</td>\n",
       "      <td>...</td>\n",
       "      <td>...</td>\n",
       "      <td>...</td>\n",
       "    </tr>\n",
       "    <tr>\n",
       "      <th>1699</th>\n",
       "      <td>1987</td>\n",
       "      <td>62.351</td>\n",
       "      <td>0</td>\n",
       "      <td>0</td>\n",
       "      <td>0</td>\n",
       "      <td>0</td>\n",
       "      <td>0</td>\n",
       "      <td>0</td>\n",
       "      <td>0</td>\n",
       "      <td>0</td>\n",
       "    </tr>\n",
       "    <tr>\n",
       "      <th>1700</th>\n",
       "      <td>1992</td>\n",
       "      <td>60.377</td>\n",
       "      <td>0</td>\n",
       "      <td>0</td>\n",
       "      <td>0</td>\n",
       "      <td>0</td>\n",
       "      <td>0</td>\n",
       "      <td>0</td>\n",
       "      <td>0</td>\n",
       "      <td>0</td>\n",
       "    </tr>\n",
       "    <tr>\n",
       "      <th>1701</th>\n",
       "      <td>1997</td>\n",
       "      <td>46.809</td>\n",
       "      <td>0</td>\n",
       "      <td>0</td>\n",
       "      <td>0</td>\n",
       "      <td>0</td>\n",
       "      <td>0</td>\n",
       "      <td>0</td>\n",
       "      <td>0</td>\n",
       "      <td>0</td>\n",
       "    </tr>\n",
       "    <tr>\n",
       "      <th>1702</th>\n",
       "      <td>2002</td>\n",
       "      <td>39.989</td>\n",
       "      <td>0</td>\n",
       "      <td>0</td>\n",
       "      <td>0</td>\n",
       "      <td>0</td>\n",
       "      <td>0</td>\n",
       "      <td>0</td>\n",
       "      <td>0</td>\n",
       "      <td>0</td>\n",
       "    </tr>\n",
       "    <tr>\n",
       "      <th>1703</th>\n",
       "      <td>2007</td>\n",
       "      <td>43.487</td>\n",
       "      <td>0</td>\n",
       "      <td>0</td>\n",
       "      <td>0</td>\n",
       "      <td>0</td>\n",
       "      <td>0</td>\n",
       "      <td>0</td>\n",
       "      <td>0</td>\n",
       "      <td>0</td>\n",
       "    </tr>\n",
       "  </tbody>\n",
       "</table>\n",
       "<p>1704 rows × 10 columns</p>\n",
       "</div>"
      ],
      "text/plain": [
       "      year  lifeExp  continent_Americas  continent_Asia  continent_Europe  \\\n",
       "0     1952   28.801                   0               1                 0   \n",
       "1     1957   30.332                   0               1                 0   \n",
       "2     1962   31.997                   0               1                 0   \n",
       "3     1967   34.020                   0               1                 0   \n",
       "4     1972   36.088                   0               1                 0   \n",
       "...    ...      ...                 ...             ...               ...   \n",
       "1699  1987   62.351                   0               0                 0   \n",
       "1700  1992   60.377                   0               0                 0   \n",
       "1701  1997   46.809                   0               0                 0   \n",
       "1702  2002   39.989                   0               0                 0   \n",
       "1703  2007   43.487                   0               0                 0   \n",
       "\n",
       "      continent_Oceania  year*Asia  year*Europe  year*Americas  year*Oceania  \n",
       "0                     0       1952            0              0             0  \n",
       "1                     0       1957            0              0             0  \n",
       "2                     0       1962            0              0             0  \n",
       "3                     0       1967            0              0             0  \n",
       "4                     0       1972            0              0             0  \n",
       "...                 ...        ...          ...            ...           ...  \n",
       "1699                  0          0            0              0             0  \n",
       "1700                  0          0            0              0             0  \n",
       "1701                  0          0            0              0             0  \n",
       "1702                  0          0            0              0             0  \n",
       "1703                  0          0            0              0             0  \n",
       "\n",
       "[1704 rows x 10 columns]"
      ]
     },
     "execution_count": 14,
     "metadata": {},
     "output_type": "execute_result"
    }
   ],
   "source": [
    "# makes dataframe with year, lifeExp, and dummy variables for continent interaction\n",
    "standard_features = data[[\"year\", \"lifeExp\"]]\n",
    "continent_features = pd.get_dummies(data.continent, drop_first=True, prefix=\"continent\") # drop_first to avoid trap\n",
    "features = pd.concat([standard_features, continent_features], axis=1)\n",
    "\n",
    "continents = data.continent.values # overwrites variable from exercise 4\n",
    "\n",
    "# adds columns for year*<continent>\n",
    "for c in filter(lambda c: c != \"Africa\", continents):\n",
    "    features[\"year*\"+c] = features[\"year\"]*features[\"continent_\"+c]\n",
    "    \n",
    "features"
   ]
  },
  {
   "cell_type": "code",
   "execution_count": 15,
   "id": "registered-raleigh",
   "metadata": {
    "scrolled": false
   },
   "outputs": [],
   "source": [
    "X = features.drop(\"lifeExp\", axis=1)\n",
    "y = features[\"lifeExp\"]\n",
    "\n",
    "reg = LinearRegression().fit(X, y)"
   ]
  },
  {
   "cell_type": "code",
   "execution_count": 16,
   "id": "technological-broadway",
   "metadata": {},
   "outputs": [
    {
     "data": {
      "text/html": [
       "<div>\n",
       "<style scoped>\n",
       "    .dataframe tbody tr th:only-of-type {\n",
       "        vertical-align: middle;\n",
       "    }\n",
       "\n",
       "    .dataframe tbody tr th {\n",
       "        vertical-align: top;\n",
       "    }\n",
       "\n",
       "    .dataframe thead th {\n",
       "        text-align: right;\n",
       "    }\n",
       "</style>\n",
       "<table border=\"1\" class=\"dataframe\">\n",
       "  <thead>\n",
       "    <tr style=\"text-align: right;\">\n",
       "      <th></th>\n",
       "      <th>coefficient</th>\n",
       "    </tr>\n",
       "  </thead>\n",
       "  <tbody>\n",
       "    <tr>\n",
       "      <th>year</th>\n",
       "      <td>0.289529</td>\n",
       "    </tr>\n",
       "    <tr>\n",
       "      <th>continent_Americas</th>\n",
       "      <td>-138.848447</td>\n",
       "    </tr>\n",
       "    <tr>\n",
       "      <th>continent_Asia</th>\n",
       "      <td>-312.633049</td>\n",
       "    </tr>\n",
       "    <tr>\n",
       "      <th>continent_Europe</th>\n",
       "      <td>156.846852</td>\n",
       "    </tr>\n",
       "    <tr>\n",
       "      <th>continent_Oceania</th>\n",
       "      <td>182.349883</td>\n",
       "    </tr>\n",
       "    <tr>\n",
       "      <th>year*Asia</th>\n",
       "      <td>0.163593</td>\n",
       "    </tr>\n",
       "    <tr>\n",
       "      <th>year*Europe</th>\n",
       "      <td>-0.067597</td>\n",
       "    </tr>\n",
       "    <tr>\n",
       "      <th>year*Americas</th>\n",
       "      <td>0.078122</td>\n",
       "    </tr>\n",
       "    <tr>\n",
       "      <th>year*Oceania</th>\n",
       "      <td>-0.079257</td>\n",
       "    </tr>\n",
       "  </tbody>\n",
       "</table>\n",
       "</div>"
      ],
      "text/plain": [
       "                    coefficient\n",
       "year                   0.289529\n",
       "continent_Americas  -138.848447\n",
       "continent_Asia      -312.633049\n",
       "continent_Europe     156.846852\n",
       "continent_Oceania    182.349883\n",
       "year*Asia              0.163593\n",
       "year*Europe           -0.067597\n",
       "year*Americas          0.078122\n",
       "year*Oceania          -0.079257"
      ]
     },
     "execution_count": 16,
     "metadata": {},
     "output_type": "execute_result"
    }
   ],
   "source": [
    "# prints the coefficients of the model\n",
    "coefs = pd.DataFrame(reg.coef_).set_index(X.columns)\n",
    "coefs.columns = [\"coefficient\"]\n",
    "coefs"
   ]
  },
  {
   "cell_type": "markdown",
   "id": "friendly-diploma",
   "metadata": {},
   "source": [
    "### Question 11\n",
    "All coefficients seem to be significantly different than zero. This makes sense, because every one of these variables should have a significant impact on life expectancy."
   ]
  },
  {
   "cell_type": "markdown",
   "id": "perceived-punch",
   "metadata": {},
   "source": [
    "### Question 12"
   ]
  },
  {
   "cell_type": "code",
   "execution_count": 17,
   "id": "automated-donna",
   "metadata": {},
   "outputs": [
    {
     "data": {
      "text/plain": [
       "0                  year\n",
       "1    continent_Americas\n",
       "2        continent_Asia\n",
       "3      continent_Europe\n",
       "4     continent_Oceania\n",
       "5             year*Asia\n",
       "6           year*Europe\n",
       "7         year*Americas\n",
       "8          year*Oceania\n",
       "dtype: object"
      ]
     },
     "execution_count": 17,
     "metadata": {},
     "output_type": "execute_result"
    }
   ],
   "source": [
    "# for reference when inputting arrays to make predictions\n",
    "# this is the order of features\n",
    "pd.Series(X.columns)"
   ]
  },
  {
   "cell_type": "code",
   "execution_count": 18,
   "id": "single-commissioner",
   "metadata": {},
   "outputs": [
    {
     "data": {
      "text/plain": [
       "array([0.28952926])"
      ]
     },
     "execution_count": 18,
     "metadata": {},
     "output_type": "execute_result"
    }
   ],
   "source": [
    "# gets slope for Africa\n",
    "reg.predict([[1, 0, 0, 0, 0, 0, 0, 0, 0]]) - reg.predict([[0, 0, 0, 0, 0, 0, 0, 0, 0]])"
   ]
  },
  {
   "cell_type": "code",
   "execution_count": 19,
   "id": "lovely-mathematics",
   "metadata": {},
   "outputs": [
    {
     "data": {
      "text/plain": [
       "array([0.36765094])"
      ]
     },
     "execution_count": 19,
     "metadata": {},
     "output_type": "execute_result"
    }
   ],
   "source": [
    "# gets slope for the Americas\n",
    "reg.predict([[1, 1, 0, 0, 0, 0, 0, 1, 0]]) - reg.predict([[0, 1, 0, 0, 0, 0, 0, 0, 0]])"
   ]
  },
  {
   "cell_type": "code",
   "execution_count": 20,
   "id": "quick-leadership",
   "metadata": {},
   "outputs": [
    {
     "data": {
      "text/plain": [
       "array([0.4531224])"
      ]
     },
     "execution_count": 20,
     "metadata": {},
     "output_type": "execute_result"
    }
   ],
   "source": [
    "# gets slope for Asia\n",
    "reg.predict([[1, 0, 1, 0, 0, 1, 0, 0, 0]]) - reg.predict([[0, 0, 1, 0, 0, 0, 0, 0, 0]])"
   ]
  },
  {
   "cell_type": "code",
   "execution_count": 21,
   "id": "expired-placement",
   "metadata": {
    "scrolled": true
   },
   "outputs": [
    {
     "data": {
      "text/plain": [
       "array([0.22193214])"
      ]
     },
     "execution_count": 21,
     "metadata": {},
     "output_type": "execute_result"
    }
   ],
   "source": [
    "# gets slope for Europe\n",
    "reg.predict([[1, 0, 0, 1, 0, 0, 1, 0, 0]]) - reg.predict([[0, 0, 0, 1, 0, 0, 0, 0, 0]])"
   ]
  },
  {
   "cell_type": "code",
   "execution_count": 22,
   "id": "parliamentary-plain",
   "metadata": {},
   "outputs": [
    {
     "data": {
      "text/plain": [
       "array([0.36878615])"
      ]
     },
     "execution_count": 22,
     "metadata": {},
     "output_type": "execute_result"
    }
   ],
   "source": [
    "# gets slope for Oceania\n",
    "reg.predict([[1, 0, 0, 0, 1, 0, 0, 0, 0]]) - reg.predict([[0, 0, 0, 0, 1, 0, 0, 0, 1]])"
   ]
  },
  {
   "cell_type": "markdown",
   "id": "threaded-generator",
   "metadata": {},
   "source": [
    "I found the average increase in life expectancy each year for each continent by predicting life expectancy at year 1 and subtracting from it the life expectancy prediction at year 0. Here's the results:\n",
    "\n",
    "Each year, life expectancy increases by...\n",
    "- Africa: 0.28952926 years\n",
    "- The Americas: 0.36765094 years\n",
    "- Asia: 0.4531224 years\n",
    "- Europe: 0.22193214 years\n",
    "- Oceania: 0.36878615 years"
   ]
  },
  {
   "cell_type": "markdown",
   "id": "constitutional-mentor",
   "metadata": {},
   "source": [
    "### Exercise 7"
   ]
  },
  {
   "cell_type": "code",
   "execution_count": 23,
   "id": "arctic-headquarters",
   "metadata": {
    "scrolled": false
   },
   "outputs": [
    {
     "data": {
      "text/html": [
       "<div>\n",
       "<style scoped>\n",
       "    .dataframe tbody tr th:only-of-type {\n",
       "        vertical-align: middle;\n",
       "    }\n",
       "\n",
       "    .dataframe tbody tr th {\n",
       "        vertical-align: top;\n",
       "    }\n",
       "\n",
       "    .dataframe thead th {\n",
       "        text-align: right;\n",
       "    }\n",
       "</style>\n",
       "<table border=\"1\" class=\"dataframe\">\n",
       "  <thead>\n",
       "    <tr style=\"text-align: right;\">\n",
       "      <th></th>\n",
       "      <th>year</th>\n",
       "      <th>lifeExp</th>\n",
       "      <th>continent_Americas</th>\n",
       "      <th>continent_Asia</th>\n",
       "      <th>continent_Europe</th>\n",
       "      <th>continent_Oceania</th>\n",
       "      <th>year*Asia</th>\n",
       "      <th>year*Europe</th>\n",
       "      <th>year*Americas</th>\n",
       "      <th>year*Oceania</th>\n",
       "      <th>prediction</th>\n",
       "      <th>residual</th>\n",
       "    </tr>\n",
       "  </thead>\n",
       "  <tbody>\n",
       "    <tr>\n",
       "      <th>0</th>\n",
       "      <td>1952</td>\n",
       "      <td>28.801</td>\n",
       "      <td>0</td>\n",
       "      <td>1</td>\n",
       "      <td>0</td>\n",
       "      <td>0</td>\n",
       "      <td>1952</td>\n",
       "      <td>0</td>\n",
       "      <td>0</td>\n",
       "      <td>0</td>\n",
       "      <td>47.604037</td>\n",
       "      <td>-18.803037</td>\n",
       "    </tr>\n",
       "    <tr>\n",
       "      <th>1</th>\n",
       "      <td>1957</td>\n",
       "      <td>30.332</td>\n",
       "      <td>0</td>\n",
       "      <td>1</td>\n",
       "      <td>0</td>\n",
       "      <td>0</td>\n",
       "      <td>1957</td>\n",
       "      <td>0</td>\n",
       "      <td>0</td>\n",
       "      <td>0</td>\n",
       "      <td>49.869649</td>\n",
       "      <td>-19.537649</td>\n",
       "    </tr>\n",
       "    <tr>\n",
       "      <th>2</th>\n",
       "      <td>1962</td>\n",
       "      <td>31.997</td>\n",
       "      <td>0</td>\n",
       "      <td>1</td>\n",
       "      <td>0</td>\n",
       "      <td>0</td>\n",
       "      <td>1962</td>\n",
       "      <td>0</td>\n",
       "      <td>0</td>\n",
       "      <td>0</td>\n",
       "      <td>52.135261</td>\n",
       "      <td>-20.138261</td>\n",
       "    </tr>\n",
       "    <tr>\n",
       "      <th>3</th>\n",
       "      <td>1967</td>\n",
       "      <td>34.020</td>\n",
       "      <td>0</td>\n",
       "      <td>1</td>\n",
       "      <td>0</td>\n",
       "      <td>0</td>\n",
       "      <td>1967</td>\n",
       "      <td>0</td>\n",
       "      <td>0</td>\n",
       "      <td>0</td>\n",
       "      <td>54.400873</td>\n",
       "      <td>-20.380873</td>\n",
       "    </tr>\n",
       "    <tr>\n",
       "      <th>4</th>\n",
       "      <td>1972</td>\n",
       "      <td>36.088</td>\n",
       "      <td>0</td>\n",
       "      <td>1</td>\n",
       "      <td>0</td>\n",
       "      <td>0</td>\n",
       "      <td>1972</td>\n",
       "      <td>0</td>\n",
       "      <td>0</td>\n",
       "      <td>0</td>\n",
       "      <td>56.666485</td>\n",
       "      <td>-20.578485</td>\n",
       "    </tr>\n",
       "    <tr>\n",
       "      <th>...</th>\n",
       "      <td>...</td>\n",
       "      <td>...</td>\n",
       "      <td>...</td>\n",
       "      <td>...</td>\n",
       "      <td>...</td>\n",
       "      <td>...</td>\n",
       "      <td>...</td>\n",
       "      <td>...</td>\n",
       "      <td>...</td>\n",
       "      <td>...</td>\n",
       "      <td>...</td>\n",
       "      <td>...</td>\n",
       "    </tr>\n",
       "    <tr>\n",
       "      <th>1699</th>\n",
       "      <td>1987</td>\n",
       "      <td>62.351</td>\n",
       "      <td>0</td>\n",
       "      <td>0</td>\n",
       "      <td>0</td>\n",
       "      <td>0</td>\n",
       "      <td>0</td>\n",
       "      <td>0</td>\n",
       "      <td>0</td>\n",
       "      <td>0</td>\n",
       "      <td>51.036800</td>\n",
       "      <td>11.314200</td>\n",
       "    </tr>\n",
       "    <tr>\n",
       "      <th>1700</th>\n",
       "      <td>1992</td>\n",
       "      <td>60.377</td>\n",
       "      <td>0</td>\n",
       "      <td>0</td>\n",
       "      <td>0</td>\n",
       "      <td>0</td>\n",
       "      <td>0</td>\n",
       "      <td>0</td>\n",
       "      <td>0</td>\n",
       "      <td>0</td>\n",
       "      <td>52.484446</td>\n",
       "      <td>7.892554</td>\n",
       "    </tr>\n",
       "    <tr>\n",
       "      <th>1701</th>\n",
       "      <td>1997</td>\n",
       "      <td>46.809</td>\n",
       "      <td>0</td>\n",
       "      <td>0</td>\n",
       "      <td>0</td>\n",
       "      <td>0</td>\n",
       "      <td>0</td>\n",
       "      <td>0</td>\n",
       "      <td>0</td>\n",
       "      <td>0</td>\n",
       "      <td>53.932092</td>\n",
       "      <td>-7.123092</td>\n",
       "    </tr>\n",
       "    <tr>\n",
       "      <th>1702</th>\n",
       "      <td>2002</td>\n",
       "      <td>39.989</td>\n",
       "      <td>0</td>\n",
       "      <td>0</td>\n",
       "      <td>0</td>\n",
       "      <td>0</td>\n",
       "      <td>0</td>\n",
       "      <td>0</td>\n",
       "      <td>0</td>\n",
       "      <td>0</td>\n",
       "      <td>55.379739</td>\n",
       "      <td>-15.390739</td>\n",
       "    </tr>\n",
       "    <tr>\n",
       "      <th>1703</th>\n",
       "      <td>2007</td>\n",
       "      <td>43.487</td>\n",
       "      <td>0</td>\n",
       "      <td>0</td>\n",
       "      <td>0</td>\n",
       "      <td>0</td>\n",
       "      <td>0</td>\n",
       "      <td>0</td>\n",
       "      <td>0</td>\n",
       "      <td>0</td>\n",
       "      <td>56.827385</td>\n",
       "      <td>-13.340385</td>\n",
       "    </tr>\n",
       "  </tbody>\n",
       "</table>\n",
       "<p>1704 rows × 12 columns</p>\n",
       "</div>"
      ],
      "text/plain": [
       "      year  lifeExp  continent_Americas  continent_Asia  continent_Europe  \\\n",
       "0     1952   28.801                   0               1                 0   \n",
       "1     1957   30.332                   0               1                 0   \n",
       "2     1962   31.997                   0               1                 0   \n",
       "3     1967   34.020                   0               1                 0   \n",
       "4     1972   36.088                   0               1                 0   \n",
       "...    ...      ...                 ...             ...               ...   \n",
       "1699  1987   62.351                   0               0                 0   \n",
       "1700  1992   60.377                   0               0                 0   \n",
       "1701  1997   46.809                   0               0                 0   \n",
       "1702  2002   39.989                   0               0                 0   \n",
       "1703  2007   43.487                   0               0                 0   \n",
       "\n",
       "      continent_Oceania  year*Asia  year*Europe  year*Americas  year*Oceania  \\\n",
       "0                     0       1952            0              0             0   \n",
       "1                     0       1957            0              0             0   \n",
       "2                     0       1962            0              0             0   \n",
       "3                     0       1967            0              0             0   \n",
       "4                     0       1972            0              0             0   \n",
       "...                 ...        ...          ...            ...           ...   \n",
       "1699                  0          0            0              0             0   \n",
       "1700                  0          0            0              0             0   \n",
       "1701                  0          0            0              0             0   \n",
       "1702                  0          0            0              0             0   \n",
       "1703                  0          0            0              0             0   \n",
       "\n",
       "      prediction   residual  \n",
       "0      47.604037 -18.803037  \n",
       "1      49.869649 -19.537649  \n",
       "2      52.135261 -20.138261  \n",
       "3      54.400873 -20.380873  \n",
       "4      56.666485 -20.578485  \n",
       "...          ...        ...  \n",
       "1699   51.036800  11.314200  \n",
       "1700   52.484446   7.892554  \n",
       "1701   53.932092  -7.123092  \n",
       "1702   55.379739 -15.390739  \n",
       "1703   56.827385 -13.340385  \n",
       "\n",
       "[1704 rows x 12 columns]"
      ]
     },
     "execution_count": 23,
     "metadata": {},
     "output_type": "execute_result"
    }
   ],
   "source": [
    "features[\"prediction\"] = reg.predict(X)\n",
    "features[\"residual\"] = features[\"lifeExp\"] - features[\"prediction\"]\n",
    "\n",
    "features"
   ]
  },
  {
   "cell_type": "code",
   "execution_count": 24,
   "id": "demonstrated-transparency",
   "metadata": {},
   "outputs": [
    {
     "data": {
      "image/png": "[encoded data removed]",
      "text/plain": [
       "<Figure size 432x288 with 1 Axes>"
      ]
     },
     "metadata": {
      "needs_background": "light"
     },
     "output_type": "display_data"
    }
   ],
   "source": [
    "# makes a violin plot for resiudals vs year \n",
    "\n",
    "resid_per_year = features.groupby(\"year\")[\"residual\"].apply(list)\n",
    "\n",
    "plt.violinplot(resid_per_year, years, widths=4, showmeans=True) # uses years variable from question 1\n",
    "plt.xlabel(\"Year\")\n",
    "plt.ylabel(\"Life Expectancy Residual (Years)\")\n",
    "plt.title(\"Life Expectancy Residuals Over Time (Interaction Model)\");"
   ]
  },
  {
   "cell_type": "markdown",
   "id": "cloudy-cisco",
   "metadata": {},
   "source": [
    "This plot shows that the assumption that life expectancy depends on year and continent seems to hold up very well; the distributious of residuals for each year appears to be centered about the mean."
   ]
  }
 ],
 "metadata": {
  "kernelspec": {
   "display_name": "Python 3",
   "language": "python",
   "name": "python3"
  },
  "language_info": {
   "codemirror_mode": {
    "name": "ipython",
    "version": 3
   },
   "file_extension": ".py",
   "mimetype": "text/x-python",
   "name": "python",
   "nbconvert_exporter": "python",
   "pygments_lexer": "ipython3",
   "version": "3.8.6"
  }
 },
 "nbformat": 4,
 "nbformat_minor": 5
}
