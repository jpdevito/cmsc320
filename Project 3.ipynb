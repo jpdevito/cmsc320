{
 "cells": [
  {
   "cell_type": "markdown",
   "id": "secure-benjamin",
   "metadata": {},
   "source": [
    "# Project 3\n",
    "## Part 1: Regression analysis of Gapminder data"
   ]
  },
  {
   "cell_type": "code",
   "execution_count": 1,
   "id": "industrial-favor",
   "metadata": {},
   "outputs": [],
   "source": [
    "import pandas as pd\n",
    "import numpy as np\n",
    "import matplotlib.pyplot as plt\n",
    "from sklearn.linear_model import LinearRegression"
   ]
  },
  {
   "cell_type": "code",
   "execution_count": 2,
   "id": "duplicate-halifax",
   "metadata": {
    "scrolled": true
   },
   "outputs": [
    {
     "data": {
      "text/html": [
       "<div>\n",
       "<style scoped>\n",
       "    .dataframe tbody tr th:only-of-type {\n",
       "        vertical-align: middle;\n",
       "    }\n",
       "\n",
       "    .dataframe tbody tr th {\n",
       "        vertical-align: top;\n",
       "    }\n",
       "\n",
       "    .dataframe thead th {\n",
       "        text-align: right;\n",
       "    }\n",
       "</style>\n",
       "<table border=\"1\" class=\"dataframe\">\n",
       "  <thead>\n",
       "    <tr style=\"text-align: right;\">\n",
       "      <th></th>\n",
       "      <th>country</th>\n",
       "      <th>continent</th>\n",
       "      <th>year</th>\n",
       "      <th>lifeExp</th>\n",
       "      <th>pop</th>\n",
       "      <th>gdpPercap</th>\n",
       "    </tr>\n",
       "  </thead>\n",
       "  <tbody>\n",
       "    <tr>\n",
       "      <th>0</th>\n",
       "      <td>Afghanistan</td>\n",
       "      <td>Asia</td>\n",
       "      <td>1952</td>\n",
       "      <td>28.801</td>\n",
       "      <td>8425333</td>\n",
       "      <td>779.445314</td>\n",
       "    </tr>\n",
       "    <tr>\n",
       "      <th>1</th>\n",
       "      <td>Afghanistan</td>\n",
       "      <td>Asia</td>\n",
       "      <td>1957</td>\n",
       "      <td>30.332</td>\n",
       "      <td>9240934</td>\n",
       "      <td>820.853030</td>\n",
       "    </tr>\n",
       "    <tr>\n",
       "      <th>2</th>\n",
       "      <td>Afghanistan</td>\n",
       "      <td>Asia</td>\n",
       "      <td>1962</td>\n",
       "      <td>31.997</td>\n",
       "      <td>10267083</td>\n",
       "      <td>853.100710</td>\n",
       "    </tr>\n",
       "    <tr>\n",
       "      <th>3</th>\n",
       "      <td>Afghanistan</td>\n",
       "      <td>Asia</td>\n",
       "      <td>1967</td>\n",
       "      <td>34.020</td>\n",
       "      <td>11537966</td>\n",
       "      <td>836.197138</td>\n",
       "    </tr>\n",
       "    <tr>\n",
       "      <th>4</th>\n",
       "      <td>Afghanistan</td>\n",
       "      <td>Asia</td>\n",
       "      <td>1972</td>\n",
       "      <td>36.088</td>\n",
       "      <td>13079460</td>\n",
       "      <td>739.981106</td>\n",
       "    </tr>\n",
       "  </tbody>\n",
       "</table>\n",
       "</div>"
      ],
      "text/plain": [
       "       country continent  year  lifeExp       pop   gdpPercap\n",
       "0  Afghanistan      Asia  1952   28.801   8425333  779.445314\n",
       "1  Afghanistan      Asia  1957   30.332   9240934  820.853030\n",
       "2  Afghanistan      Asia  1962   31.997  10267083  853.100710\n",
       "3  Afghanistan      Asia  1967   34.020  11537966  836.197138\n",
       "4  Afghanistan      Asia  1972   36.088  13079460  739.981106"
      ]
     },
     "execution_count": 2,
     "metadata": {},
     "output_type": "execute_result"
    }
   ],
   "source": [
    "data = pd.read_csv(\"gap.tsv\", sep=\"\\t\")\n",
    "data.head()"
   ]
  },
  {
   "cell_type": "markdown",
   "id": "confirmed-office",
   "metadata": {},
   "source": [
    "### Exercise 1"
   ]
  },
  {
   "cell_type": "code",
   "execution_count": 3,
   "id": "distinguished-fiction",
   "metadata": {
    "scrolled": true
   },
   "outputs": [
    {
     "data": {
      "text/plain": [
       "<matplotlib.collections.PathCollection at 0x7f902b5d2850>"
      ]
     },
     "execution_count": 3,
     "metadata": {},
     "output_type": "execute_result"
    },
    {
     "data": {
      "image/png": "[encoded data removed]",
      "text/plain": [
       "<Figure size 432x288 with 1 Axes>"
      ]
     },
     "metadata": {
      "needs_background": "light"
     },
     "output_type": "display_data"
    }
   ],
   "source": [
    "plt.scatter(data=data, x=\"year\", y=\"lifeExp\")"
   ]
  },
  {
   "cell_type": "markdown",
   "id": "painted-stock",
   "metadata": {},
   "source": [
    "### Question 1\n",
    "The plot shows a general trend of increasing life expectancy over time. It looks like a linear trend, however it is difficult to know for sure given that the change appears only slight over this time interval."
   ]
  },
  {
   "cell_type": "code",
   "execution_count": 4,
   "id": "wooden-blocking",
   "metadata": {},
   "outputs": [],
   "source": [
    "# gets list of lists -> life expectancy for each country for each year\n",
    "life_exp_per_year = data.groupby(\"year\")[\"lifeExp\"].apply(list)\n",
    "# gets list of the years of data collection\n",
    "years = data.year.drop_duplicates()"
   ]
  },
  {
   "cell_type": "code",
   "execution_count": 5,
   "id": "absolute-tuition",
   "metadata": {
    "scrolled": false
   },
   "outputs": [
    {
     "data": {
      "text/plain": [
       "Text(0.5, 1.0, 'Violin Plot of Life Expectancy Over Time')"
      ]
     },
     "execution_count": 5,
     "metadata": {},
     "output_type": "execute_result"
    },
    {
     "data": {
      "image/png": "[encoded data removed]",
      "text/plain": [
       "<Figure size 432x288 with 1 Axes>"
      ]
     },
     "metadata": {
      "needs_background": "light"
     },
     "output_type": "display_data"
    }
   ],
   "source": [
    "plt.violinplot(life_exp_per_year, years, widths=4, showmeans=True)\n",
    "plt.xlabel(\"Year\")\n",
    "plt.ylabel(\"Life Expectancy\")\n",
    "plt.title(\"Violin Plot of Life Expectancy Over Time\")"
   ]
  },
  {
   "cell_type": "markdown",
   "id": "devoted-cannon",
   "metadata": {},
   "source": [
    "### Question 2\n",
    "The graph for individual years seems to be bimodal, with one mode above the mean and one below. In 1950-1960 it appears that most countries are below the mean life expectancy, and the graph is skewed toward the higher life expectancies. The skew decreases with time, however, and flips around 1970, where the two modes seem similar in size. By the 2000s the graph is skewed the other direction in an significant way."
   ]
  },
  {
   "cell_type": "markdown",
   "id": "unnecessary-lecture",
   "metadata": {},
   "source": [
    "### Question 3\n",
    "I would reject the null hypothesisis of no relationship between life expectancy and time because mean life expectancy increases for every year measured in this dataset."
   ]
  },
  {
   "cell_type": "markdown",
   "id": "acquired-vaccine",
   "metadata": {},
   "source": [
    "### Question 4\n",
    "I think that a violin plot of the residuals from a linear regression model would look similar to the one I already plotted except the means would be around zero for each year, so it would be without the general upward trend. That's because the residuals are the values relative to the linear model at that year, which would be close to the mean lie expectancy for that year."
   ]
  },
  {
   "cell_type": "markdown",
   "id": "coated-distributor",
   "metadata": {},
   "source": [
    "### Question 5 *NOT COMPLETE*\n",
    "The mean life expectancy for countries over these years seems to have a linear trend with time, so a linear regression model that minimizes residuals should end up being around the mean for each year. It is because of this that I think \"everything is okay,\" and the violin plot would end up looking like I described in question 4.\n",
    "\n",
    "**** SUM OF SQUARES"
   ]
  },
  {
   "cell_type": "markdown",
   "id": "filled-rhythm",
   "metadata": {},
   "source": [
    "### Exercise 2"
   ]
  },
  {
   "cell_type": "code",
   "execution_count": 9,
   "id": "neither-basin",
   "metadata": {
    "scrolled": false
   },
   "outputs": [],
   "source": [
    "# training data\n",
    "X = data.year.values.reshape(-1, 1) # LinearRegression() requires a 2D array for samples\n",
    "# target data\n",
    "y = data.lifeExp\n",
    "\n",
    "reg = LinearRegression().fit(X, y)"
   ]
  },
  {
   "cell_type": "code",
   "execution_count": 33,
   "id": "based-people",
   "metadata": {
    "scrolled": false
   },
   "outputs": [
    {
     "data": {
      "text/html": [
       "<div>\n",
       "<style scoped>\n",
       "    .dataframe tbody tr th:only-of-type {\n",
       "        vertical-align: middle;\n",
       "    }\n",
       "\n",
       "    .dataframe tbody tr th {\n",
       "        vertical-align: top;\n",
       "    }\n",
       "\n",
       "    .dataframe thead th {\n",
       "        text-align: right;\n",
       "    }\n",
       "</style>\n",
       "<table border=\"1\" class=\"dataframe\">\n",
       "  <thead>\n",
       "    <tr style=\"text-align: right;\">\n",
       "      <th></th>\n",
       "      <th>predictedLifeExp</th>\n",
       "    </tr>\n",
       "  </thead>\n",
       "  <tbody>\n",
       "    <tr>\n",
       "      <th>1950</th>\n",
       "      <td>49.860276</td>\n",
       "    </tr>\n",
       "    <tr>\n",
       "      <th>1955</th>\n",
       "      <td>51.489796</td>\n",
       "    </tr>\n",
       "    <tr>\n",
       "      <th>1960</th>\n",
       "      <td>53.119315</td>\n",
       "    </tr>\n",
       "    <tr>\n",
       "      <th>1965</th>\n",
       "      <td>54.748834</td>\n",
       "    </tr>\n",
       "    <tr>\n",
       "      <th>1970</th>\n",
       "      <td>56.378353</td>\n",
       "    </tr>\n",
       "    <tr>\n",
       "      <th>1975</th>\n",
       "      <td>58.007872</td>\n",
       "    </tr>\n",
       "    <tr>\n",
       "      <th>1980</th>\n",
       "      <td>59.637391</td>\n",
       "    </tr>\n",
       "    <tr>\n",
       "      <th>1985</th>\n",
       "      <td>61.266910</td>\n",
       "    </tr>\n",
       "    <tr>\n",
       "      <th>1990</th>\n",
       "      <td>62.896430</td>\n",
       "    </tr>\n",
       "    <tr>\n",
       "      <th>1995</th>\n",
       "      <td>64.525949</td>\n",
       "    </tr>\n",
       "    <tr>\n",
       "      <th>2000</th>\n",
       "      <td>66.155468</td>\n",
       "    </tr>\n",
       "    <tr>\n",
       "      <th>2005</th>\n",
       "      <td>67.784987</td>\n",
       "    </tr>\n",
       "    <tr>\n",
       "      <th>2010</th>\n",
       "      <td>69.414506</td>\n",
       "    </tr>\n",
       "  </tbody>\n",
       "</table>\n",
       "</div>"
      ],
      "text/plain": [
       "      predictedLifeExp\n",
       "1950         49.860276\n",
       "1955         51.489796\n",
       "1960         53.119315\n",
       "1965         54.748834\n",
       "1970         56.378353\n",
       "1975         58.007872\n",
       "1980         59.637391\n",
       "1985         61.266910\n",
       "1990         62.896430\n",
       "1995         64.525949\n",
       "2000         66.155468\n",
       "2005         67.784987\n",
       "2010         69.414506"
      ]
     },
     "execution_count": 33,
     "metadata": {},
     "output_type": "execute_result"
    }
   ],
   "source": [
    "# prints the predicted values for every five years from 1950-2010\n",
    "years_range = np.array(list(range(1950, 2011, 5)))\n",
    "reg_df = pd.DataFrame(reg.predict(years_range.reshape(-1, 1))).set_index(years_range)\n",
    "reg_df.columns = [\"predictedLifeExp\"]\n",
    "\n",
    "reg_df"
   ]
  },
  {
   "cell_type": "markdown",
   "id": "signal-likelihood",
   "metadata": {},
   "source": [
    "I decided to print the fitted model as a list of values (above) because I thought it would be an easy way to see the kind of predictions the model was making."
   ]
  },
  {
   "cell_type": "code",
   "execution_count": 40,
   "id": "taken-complement",
   "metadata": {},
   "outputs": [
    {
     "data": {
      "text/plain": [
       "-585.6521874415448"
      ]
     },
     "execution_count": 40,
     "metadata": {},
     "output_type": "execute_result"
    }
   ],
   "source": [
    "reg.intercept_"
   ]
  },
  {
   "cell_type": "code",
   "execution_count": 41,
   "id": "enormous-sierra",
   "metadata": {
    "scrolled": true
   },
   "outputs": [
    {
     "data": {
      "text/plain": [
       "array([0.32590383])"
      ]
     },
     "execution_count": 41,
     "metadata": {},
     "output_type": "execute_result"
    }
   ],
   "source": [
    "reg.coef_"
   ]
  },
  {
   "cell_type": "markdown",
   "id": "ultimate-necessity",
   "metadata": {},
   "source": [
    "The values above give the y-intercept and the slope, so the model in \"y = mx + b\" format would be:\n",
    "\n",
    "$predicted\\ life\\ expectancy = (0.32590383 * year) - 585.6521874415448$"
   ]
  },
  {
   "cell_type": "markdown",
   "id": "taken-eight",
   "metadata": {},
   "source": [
    "### Question 6\n",
    "According to my linear regression model, life expectancy increases by about 0.326 years on average every year around the world. This can be seen from the value of `reg.coef_` in exercise 2."
   ]
  },
  {
   "cell_type": "markdown",
   "id": "genuine-lighting",
   "metadata": {},
   "source": [
    "### Question 7\n",
    "I reject the null hypothesis of no relationship between year and life expectancy because the slope of the linear regression seems to be significantly greater than zero, which matches what I predicted the relationship was by just looking at the violin plot."
   ]
  }
 ],
 "metadata": {
  "kernelspec": {
   "display_name": "Python 3",
   "language": "python",
   "name": "python3"
  },
  "language_info": {
   "codemirror_mode": {
    "name": "ipython",
    "version": 3
   },
   "file_extension": ".py",
   "mimetype": "text/x-python",
   "name": "python",
   "nbconvert_exporter": "python",
   "pygments_lexer": "ipython3",
   "version": "3.8.6"
  }
 },
 "nbformat": 4,
 "nbformat_minor": 5
}
