{
 "cells": [
  {
   "cell_type": "markdown",
   "id": "given-glossary",
   "metadata": {},
   "source": [
    "# Part 1: Wrangling"
   ]
  },
  {
   "cell_type": "code",
   "execution_count": 1,
   "id": "identified-junction",
   "metadata": {
    "scrolled": true
   },
   "outputs": [],
   "source": [
    "import sqlite3 as sql\n",
    "import pandas as pd\n",
    "import matplotlib.pyplot as plt\n",
    "import numpy as np"
   ]
  },
  {
   "cell_type": "code",
   "execution_count": 2,
   "id": "fewer-termination",
   "metadata": {},
   "outputs": [],
   "source": [
    "# toggle off row display limit\n",
    "pd.set_option(\"display.max_rows\", None)"
   ]
  },
  {
   "cell_type": "code",
   "execution_count": 3,
   "id": "killing-jacksonville",
   "metadata": {},
   "outputs": [],
   "source": [
    "# toggle on row display limit\n",
    "pd.reset_option(\"display.max_rows\")"
   ]
  },
  {
   "cell_type": "markdown",
   "id": "forward-notification",
   "metadata": {},
   "source": [
    "### Problem 1"
   ]
  },
  {
   "cell_type": "code",
   "execution_count": 4,
   "id": "color-offset",
   "metadata": {},
   "outputs": [],
   "source": [
    "sqlite_file = \"lahman2014.sqlite\"\n",
    "conn = sql.connect(sqlite_file)"
   ]
  },
  {
   "cell_type": "code",
   "execution_count": 5,
   "id": "announced-spell",
   "metadata": {
    "scrolled": true
   },
   "outputs": [],
   "source": [
    "# sql code to retrieve the data of interest from the database\n",
    "teams_query = \"\"\"\n",
    "                SELECT \n",
    "                    A.yearID, \n",
    "                    A.teamID, \n",
    "                    franchID,   \n",
    "                    W, \n",
    "                    G, \n",
    "                    100*CAST(W AS float)/CAST(G AS float) AS winPercent,\n",
    "                    payroll\n",
    "                FROM \n",
    "                    Teams A\n",
    "                INNER JOIN \n",
    "                    (SELECT yearID, teamID, SUM(salary) AS payroll FROM Salaries GROUP BY yearID, teamID) B \n",
    "                ON\n",
    "                    A.yearID = B.yearID AND A.teamId = B.teamId\n",
    "            \"\"\"\n",
    "\n",
    "# runs the sql code and stores the data in a dataframe\n",
    "teams = pd.read_sql(teams_query, conn)"
   ]
  },
  {
   "cell_type": "code",
   "execution_count": 6,
   "id": "reflected-local",
   "metadata": {
    "scrolled": false
   },
   "outputs": [
    {
     "data": {
      "text/html": [
       "<div>\n",
       "<style scoped>\n",
       "    .dataframe tbody tr th:only-of-type {\n",
       "        vertical-align: middle;\n",
       "    }\n",
       "\n",
       "    .dataframe tbody tr th {\n",
       "        vertical-align: top;\n",
       "    }\n",
       "\n",
       "    .dataframe thead th {\n",
       "        text-align: right;\n",
       "    }\n",
       "</style>\n",
       "<table border=\"1\" class=\"dataframe\">\n",
       "  <thead>\n",
       "    <tr style=\"text-align: right;\">\n",
       "      <th></th>\n",
       "      <th>yearID</th>\n",
       "      <th>teamID</th>\n",
       "      <th>franchID</th>\n",
       "      <th>W</th>\n",
       "      <th>G</th>\n",
       "      <th>winPercent</th>\n",
       "      <th>payroll</th>\n",
       "    </tr>\n",
       "  </thead>\n",
       "  <tbody>\n",
       "    <tr>\n",
       "      <th>0</th>\n",
       "      <td>1985</td>\n",
       "      <td>ATL</td>\n",
       "      <td>ATL</td>\n",
       "      <td>66</td>\n",
       "      <td>162</td>\n",
       "      <td>40.740741</td>\n",
       "      <td>14807000.0</td>\n",
       "    </tr>\n",
       "    <tr>\n",
       "      <th>1</th>\n",
       "      <td>1985</td>\n",
       "      <td>BAL</td>\n",
       "      <td>BAL</td>\n",
       "      <td>83</td>\n",
       "      <td>161</td>\n",
       "      <td>51.552795</td>\n",
       "      <td>11560712.0</td>\n",
       "    </tr>\n",
       "    <tr>\n",
       "      <th>2</th>\n",
       "      <td>1985</td>\n",
       "      <td>BOS</td>\n",
       "      <td>BOS</td>\n",
       "      <td>81</td>\n",
       "      <td>163</td>\n",
       "      <td>49.693252</td>\n",
       "      <td>10897560.0</td>\n",
       "    </tr>\n",
       "    <tr>\n",
       "      <th>3</th>\n",
       "      <td>1985</td>\n",
       "      <td>CAL</td>\n",
       "      <td>ANA</td>\n",
       "      <td>90</td>\n",
       "      <td>162</td>\n",
       "      <td>55.555556</td>\n",
       "      <td>14427894.0</td>\n",
       "    </tr>\n",
       "    <tr>\n",
       "      <th>4</th>\n",
       "      <td>1985</td>\n",
       "      <td>CHA</td>\n",
       "      <td>CHW</td>\n",
       "      <td>85</td>\n",
       "      <td>163</td>\n",
       "      <td>52.147239</td>\n",
       "      <td>9846178.0</td>\n",
       "    </tr>\n",
       "    <tr>\n",
       "      <th>...</th>\n",
       "      <td>...</td>\n",
       "      <td>...</td>\n",
       "      <td>...</td>\n",
       "      <td>...</td>\n",
       "      <td>...</td>\n",
       "      <td>...</td>\n",
       "      <td>...</td>\n",
       "    </tr>\n",
       "    <tr>\n",
       "      <th>853</th>\n",
       "      <td>2014</td>\n",
       "      <td>SLN</td>\n",
       "      <td>STL</td>\n",
       "      <td>90</td>\n",
       "      <td>162</td>\n",
       "      <td>55.555556</td>\n",
       "      <td>120693000.0</td>\n",
       "    </tr>\n",
       "    <tr>\n",
       "      <th>854</th>\n",
       "      <td>2014</td>\n",
       "      <td>TBA</td>\n",
       "      <td>TBD</td>\n",
       "      <td>77</td>\n",
       "      <td>162</td>\n",
       "      <td>47.530864</td>\n",
       "      <td>72689100.0</td>\n",
       "    </tr>\n",
       "    <tr>\n",
       "      <th>855</th>\n",
       "      <td>2014</td>\n",
       "      <td>TEX</td>\n",
       "      <td>TEX</td>\n",
       "      <td>67</td>\n",
       "      <td>162</td>\n",
       "      <td>41.358025</td>\n",
       "      <td>112255059.0</td>\n",
       "    </tr>\n",
       "    <tr>\n",
       "      <th>856</th>\n",
       "      <td>2014</td>\n",
       "      <td>TOR</td>\n",
       "      <td>TOR</td>\n",
       "      <td>83</td>\n",
       "      <td>162</td>\n",
       "      <td>51.234568</td>\n",
       "      <td>109920100.0</td>\n",
       "    </tr>\n",
       "    <tr>\n",
       "      <th>857</th>\n",
       "      <td>2014</td>\n",
       "      <td>WAS</td>\n",
       "      <td>WSN</td>\n",
       "      <td>96</td>\n",
       "      <td>162</td>\n",
       "      <td>59.259259</td>\n",
       "      <td>131983680.0</td>\n",
       "    </tr>\n",
       "  </tbody>\n",
       "</table>\n",
       "<p>858 rows × 7 columns</p>\n",
       "</div>"
      ],
      "text/plain": [
       "     yearID teamID franchID   W    G  winPercent      payroll\n",
       "0      1985    ATL      ATL  66  162   40.740741   14807000.0\n",
       "1      1985    BAL      BAL  83  161   51.552795   11560712.0\n",
       "2      1985    BOS      BOS  81  163   49.693252   10897560.0\n",
       "3      1985    CAL      ANA  90  162   55.555556   14427894.0\n",
       "4      1985    CHA      CHW  85  163   52.147239    9846178.0\n",
       "..      ...    ...      ...  ..  ...         ...          ...\n",
       "853    2014    SLN      STL  90  162   55.555556  120693000.0\n",
       "854    2014    TBA      TBD  77  162   47.530864   72689100.0\n",
       "855    2014    TEX      TEX  67  162   41.358025  112255059.0\n",
       "856    2014    TOR      TOR  83  162   51.234568  109920100.0\n",
       "857    2014    WAS      WSN  96  162   59.259259  131983680.0\n",
       "\n",
       "[858 rows x 7 columns]"
      ]
     },
     "execution_count": 6,
     "metadata": {},
     "output_type": "execute_result"
    }
   ],
   "source": [
    "teams"
   ]
  },
  {
   "cell_type": "markdown",
   "id": "wicked-pierce",
   "metadata": {},
   "source": [
    "I used the `read_sql()` function in Pandas to extract data from the SQLite database and put it into a Pandas database. In my SQL query, I used the `GROUP BY` statement to sum all of the salaries for each team/year combination in the Salaries table, and then used the `INNER JOIN` statement to combine the resulting table with selected data from the Teams table.\n",
    "\n",
    "As a result of using `INNER JOIN`, team/year combinations that existed in one table but not the other (missing data) were not included in the final table. Therefore the final table does not have any data from before 1985, which is the earliest year of recorded data in the Salaries table.\n",
    "\n",
    "For both of these tables, when the row exists, all variables in the row seem to exist."
   ]
  },
  {
   "cell_type": "markdown",
   "id": "absent-adaptation",
   "metadata": {},
   "source": [
    "# Part 2: Exploratory Data Analysis"
   ]
  },
  {
   "cell_type": "markdown",
   "id": "clean-secretariat",
   "metadata": {},
   "source": [
    "## Payroll Distribution"
   ]
  },
  {
   "cell_type": "markdown",
   "id": "accredited-serial",
   "metadata": {},
   "source": [
    "### Problem 2"
   ]
  },
  {
   "cell_type": "code",
   "execution_count": 7,
   "id": "measured-siemens",
   "metadata": {
    "scrolled": true
   },
   "outputs": [],
   "source": [
    "# organizes dataframe for analyzing payrolls\n",
    "payrolls = teams.drop(teams.columns.difference([\"yearID\", \"payroll\"]), 1).set_index(\"yearID\")\n",
    "\n",
    "# removes years before 1985-1989, we're only looking at 1990-2014\n",
    "payrolls = payrolls.drop(index=[1985, 1986, 1987, 1988, 1989])"
   ]
  },
  {
   "cell_type": "code",
   "execution_count": 8,
   "id": "close-headset",
   "metadata": {},
   "outputs": [
    {
     "data": {
      "text/html": [
       "<div>\n",
       "<style scoped>\n",
       "    .dataframe tbody tr th:only-of-type {\n",
       "        vertical-align: middle;\n",
       "    }\n",
       "\n",
       "    .dataframe tbody tr th {\n",
       "        vertical-align: top;\n",
       "    }\n",
       "\n",
       "    .dataframe thead th {\n",
       "        text-align: right;\n",
       "    }\n",
       "</style>\n",
       "<table border=\"1\" class=\"dataframe\">\n",
       "  <thead>\n",
       "    <tr style=\"text-align: right;\">\n",
       "      <th></th>\n",
       "      <th>payroll</th>\n",
       "    </tr>\n",
       "    <tr>\n",
       "      <th>yearID</th>\n",
       "      <th></th>\n",
       "    </tr>\n",
       "  </thead>\n",
       "  <tbody>\n",
       "    <tr>\n",
       "      <th>1990</th>\n",
       "      <td>14555501.0</td>\n",
       "    </tr>\n",
       "    <tr>\n",
       "      <th>1990</th>\n",
       "      <td>9680084.0</td>\n",
       "    </tr>\n",
       "    <tr>\n",
       "      <th>1990</th>\n",
       "      <td>20558333.0</td>\n",
       "    </tr>\n",
       "    <tr>\n",
       "      <th>1990</th>\n",
       "      <td>21720000.0</td>\n",
       "    </tr>\n",
       "    <tr>\n",
       "      <th>1990</th>\n",
       "      <td>9491500.0</td>\n",
       "    </tr>\n",
       "    <tr>\n",
       "      <th>...</th>\n",
       "      <td>...</td>\n",
       "    </tr>\n",
       "    <tr>\n",
       "      <th>2014</th>\n",
       "      <td>120693000.0</td>\n",
       "    </tr>\n",
       "    <tr>\n",
       "      <th>2014</th>\n",
       "      <td>72689100.0</td>\n",
       "    </tr>\n",
       "    <tr>\n",
       "      <th>2014</th>\n",
       "      <td>112255059.0</td>\n",
       "    </tr>\n",
       "    <tr>\n",
       "      <th>2014</th>\n",
       "      <td>109920100.0</td>\n",
       "    </tr>\n",
       "    <tr>\n",
       "      <th>2014</th>\n",
       "      <td>131983680.0</td>\n",
       "    </tr>\n",
       "  </tbody>\n",
       "</table>\n",
       "<p>728 rows × 1 columns</p>\n",
       "</div>"
      ],
      "text/plain": [
       "            payroll\n",
       "yearID             \n",
       "1990     14555501.0\n",
       "1990      9680084.0\n",
       "1990     20558333.0\n",
       "1990     21720000.0\n",
       "1990      9491500.0\n",
       "...             ...\n",
       "2014    120693000.0\n",
       "2014     72689100.0\n",
       "2014    112255059.0\n",
       "2014    109920100.0\n",
       "2014    131983680.0\n",
       "\n",
       "[728 rows x 1 columns]"
      ]
     },
     "execution_count": 8,
     "metadata": {},
     "output_type": "execute_result"
    }
   ],
   "source": [
    "payrolls"
   ]
  },
  {
   "cell_type": "code",
   "execution_count": 9,
   "id": "upper-plaintiff",
   "metadata": {
    "scrolled": true
   },
   "outputs": [],
   "source": [
    "# creates groupby object with the leage's total payrolls for each year\n",
    "# object can be used to find mean, std deviation, etc of payrolls for each year\n",
    "payrolls = payrolls.groupby(\"yearID\")\n",
    "#payrolls = teams.drop(teams.columns.difference([\"yearID\", \"payroll\"]), 1).groupby(\"yearID\")"
   ]
  },
  {
   "cell_type": "code",
   "execution_count": 10,
   "id": "consolidated-thesaurus",
   "metadata": {
    "scrolled": false
   },
   "outputs": [
    {
     "data": {
      "image/png": "[encoded data removed]",
      "text/plain": [
       "<Figure size 1080x360 with 2 Axes>"
      ]
     },
     "metadata": {
      "needs_background": "light"
     },
     "output_type": "display_data"
    }
   ],
   "source": [
    "# plots the data\n",
    "fig, axes = plt.subplots(nrows=1, ncols=2, figsize=(15, 5))\n",
    "payrolls.mean().plot(ax=axes[0], legend=False, ylabel=\"Average Payroll (USD)\", \n",
    "                     title=\"Average Payrolls of MLB Teams from 1990-2014\")\n",
    "payrolls.std().plot(ax=axes[1], legend=False, ylabel=\"Std. Deviation for Payrolls (USD)\",\n",
    "                    title=\"Std. Deviation for Payrolls of MLB Teams from 1990-2014\")\n",
    "_ = plt.setp(axes, xlabel=\"Year\")"
   ]
  },
  {
   "cell_type": "markdown",
   "id": "duplicate-flood",
   "metadata": {},
   "source": [
    "To show the distribution of payrolls across teams conditioned on time I"
   ]
  },
  {
   "cell_type": "markdown",
   "id": "cardiovascular-xerox",
   "metadata": {},
   "source": [
    "### Question 1"
   ]
  },
  {
   "cell_type": "code",
   "execution_count": null,
   "id": "necessary-herald",
   "metadata": {},
   "outputs": [],
   "source": []
  },
  {
   "cell_type": "markdown",
   "id": "covered-connectivity",
   "metadata": {},
   "source": [
    "### Problem 3"
   ]
  },
  {
   "cell_type": "code",
   "execution_count": 11,
   "id": "animal-decade",
   "metadata": {
    "scrolled": false
   },
   "outputs": [],
   "source": [
    "#fig, axes = plt.subplots(nrows=6, ncols=4, figsize=(20, 30))\n",
    "#teams.hist(column=\"payroll\", bins=100, ax=axes[0][0])\n",
    "\n",
    "# idea: create two histograms, one for payrolls in 1990 and one for payrolls in 2014"
   ]
  },
  {
   "cell_type": "markdown",
   "id": "dependent-archive",
   "metadata": {},
   "source": [
    "## Correlation between payroll and winning percentage"
   ]
  },
  {
   "cell_type": "markdown",
   "id": "composite-baghdad",
   "metadata": {},
   "source": [
    "### Problem 4"
   ]
  },
  {
   "cell_type": "code",
   "execution_count": 12,
   "id": "expressed-navigator",
   "metadata": {
    "scrolled": true
   },
   "outputs": [],
   "source": [
    "# puts each index from the teams dataframe in a bin based on its year\n",
    "years = teams.iloc[:, 0].rename(\"bin\")\n",
    "bins = pd.cut(x=years, bins=[1990, 1995, 2000, 2005, 2010, 2015], labels=[\"A\", \"B\", \"C\", \"D\", \"E\"], right=False)\n",
    "\n",
    "# creates new dataframe with a bin column and select columns from the teams dataframe\n",
    "means = teams.drop(teams.columns.difference([\"teamID\", \"winPercent\", \"payroll\"]), 1).join(bins)"
   ]
  },
  {
   "cell_type": "code",
   "execution_count": 13,
   "id": "lined-leadership",
   "metadata": {},
   "outputs": [
    {
     "data": {
      "text/html": [
       "<div>\n",
       "<style scoped>\n",
       "    .dataframe tbody tr th:only-of-type {\n",
       "        vertical-align: middle;\n",
       "    }\n",
       "\n",
       "    .dataframe tbody tr th {\n",
       "        vertical-align: top;\n",
       "    }\n",
       "\n",
       "    .dataframe thead th {\n",
       "        text-align: right;\n",
       "    }\n",
       "</style>\n",
       "<table border=\"1\" class=\"dataframe\">\n",
       "  <thead>\n",
       "    <tr style=\"text-align: right;\">\n",
       "      <th></th>\n",
       "      <th>teamID</th>\n",
       "      <th>winPercent</th>\n",
       "      <th>payroll</th>\n",
       "      <th>bin</th>\n",
       "    </tr>\n",
       "  </thead>\n",
       "  <tbody>\n",
       "    <tr>\n",
       "      <th>0</th>\n",
       "      <td>ATL</td>\n",
       "      <td>40.740741</td>\n",
       "      <td>14807000.0</td>\n",
       "      <td>NaN</td>\n",
       "    </tr>\n",
       "    <tr>\n",
       "      <th>1</th>\n",
       "      <td>BAL</td>\n",
       "      <td>51.552795</td>\n",
       "      <td>11560712.0</td>\n",
       "      <td>NaN</td>\n",
       "    </tr>\n",
       "    <tr>\n",
       "      <th>2</th>\n",
       "      <td>BOS</td>\n",
       "      <td>49.693252</td>\n",
       "      <td>10897560.0</td>\n",
       "      <td>NaN</td>\n",
       "    </tr>\n",
       "    <tr>\n",
       "      <th>3</th>\n",
       "      <td>CAL</td>\n",
       "      <td>55.555556</td>\n",
       "      <td>14427894.0</td>\n",
       "      <td>NaN</td>\n",
       "    </tr>\n",
       "    <tr>\n",
       "      <th>4</th>\n",
       "      <td>CHA</td>\n",
       "      <td>52.147239</td>\n",
       "      <td>9846178.0</td>\n",
       "      <td>NaN</td>\n",
       "    </tr>\n",
       "    <tr>\n",
       "      <th>...</th>\n",
       "      <td>...</td>\n",
       "      <td>...</td>\n",
       "      <td>...</td>\n",
       "      <td>...</td>\n",
       "    </tr>\n",
       "    <tr>\n",
       "      <th>853</th>\n",
       "      <td>SLN</td>\n",
       "      <td>55.555556</td>\n",
       "      <td>120693000.0</td>\n",
       "      <td>E</td>\n",
       "    </tr>\n",
       "    <tr>\n",
       "      <th>854</th>\n",
       "      <td>TBA</td>\n",
       "      <td>47.530864</td>\n",
       "      <td>72689100.0</td>\n",
       "      <td>E</td>\n",
       "    </tr>\n",
       "    <tr>\n",
       "      <th>855</th>\n",
       "      <td>TEX</td>\n",
       "      <td>41.358025</td>\n",
       "      <td>112255059.0</td>\n",
       "      <td>E</td>\n",
       "    </tr>\n",
       "    <tr>\n",
       "      <th>856</th>\n",
       "      <td>TOR</td>\n",
       "      <td>51.234568</td>\n",
       "      <td>109920100.0</td>\n",
       "      <td>E</td>\n",
       "    </tr>\n",
       "    <tr>\n",
       "      <th>857</th>\n",
       "      <td>WAS</td>\n",
       "      <td>59.259259</td>\n",
       "      <td>131983680.0</td>\n",
       "      <td>E</td>\n",
       "    </tr>\n",
       "  </tbody>\n",
       "</table>\n",
       "<p>858 rows × 4 columns</p>\n",
       "</div>"
      ],
      "text/plain": [
       "    teamID  winPercent      payroll  bin\n",
       "0      ATL   40.740741   14807000.0  NaN\n",
       "1      BAL   51.552795   11560712.0  NaN\n",
       "2      BOS   49.693252   10897560.0  NaN\n",
       "3      CAL   55.555556   14427894.0  NaN\n",
       "4      CHA   52.147239    9846178.0  NaN\n",
       "..     ...         ...          ...  ...\n",
       "853    SLN   55.555556  120693000.0    E\n",
       "854    TBA   47.530864   72689100.0    E\n",
       "855    TEX   41.358025  112255059.0    E\n",
       "856    TOR   51.234568  109920100.0    E\n",
       "857    WAS   59.259259  131983680.0    E\n",
       "\n",
       "[858 rows x 4 columns]"
      ]
     },
     "execution_count": 13,
     "metadata": {},
     "output_type": "execute_result"
    }
   ],
   "source": [
    "means"
   ]
  },
  {
   "cell_type": "code",
   "execution_count": 14,
   "id": "indonesian-backup",
   "metadata": {},
   "outputs": [],
   "source": [
    "means = means.groupby(by=[\"bin\", \"teamID\"]).mean()"
   ]
  },
  {
   "cell_type": "code",
   "execution_count": 15,
   "id": "returning-penny",
   "metadata": {
    "scrolled": false
   },
   "outputs": [
    {
     "data": {
      "text/html": [
       "<div>\n",
       "<style scoped>\n",
       "    .dataframe tbody tr th:only-of-type {\n",
       "        vertical-align: middle;\n",
       "    }\n",
       "\n",
       "    .dataframe tbody tr th {\n",
       "        vertical-align: top;\n",
       "    }\n",
       "\n",
       "    .dataframe thead th {\n",
       "        text-align: right;\n",
       "    }\n",
       "</style>\n",
       "<table border=\"1\" class=\"dataframe\">\n",
       "  <thead>\n",
       "    <tr style=\"text-align: right;\">\n",
       "      <th></th>\n",
       "      <th></th>\n",
       "      <th>winPercent</th>\n",
       "      <th>payroll</th>\n",
       "    </tr>\n",
       "    <tr>\n",
       "      <th>bin</th>\n",
       "      <th>teamID</th>\n",
       "      <th></th>\n",
       "      <th></th>\n",
       "    </tr>\n",
       "  </thead>\n",
       "  <tbody>\n",
       "    <tr>\n",
       "      <th rowspan=\"5\" valign=\"top\">A</th>\n",
       "      <th>ANA</th>\n",
       "      <td>NaN</td>\n",
       "      <td>NaN</td>\n",
       "    </tr>\n",
       "    <tr>\n",
       "      <th>ARI</th>\n",
       "      <td>NaN</td>\n",
       "      <td>NaN</td>\n",
       "    </tr>\n",
       "    <tr>\n",
       "      <th>ATL</th>\n",
       "      <td>56.497726</td>\n",
       "      <td>31721852.8</td>\n",
       "    </tr>\n",
       "    <tr>\n",
       "      <th>BAL</th>\n",
       "      <td>50.444080</td>\n",
       "      <td>23785204.0</td>\n",
       "    </tr>\n",
       "    <tr>\n",
       "      <th>BOS</th>\n",
       "      <td>49.514761</td>\n",
       "      <td>34863216.8</td>\n",
       "    </tr>\n",
       "    <tr>\n",
       "      <th>...</th>\n",
       "      <th>...</th>\n",
       "      <td>...</td>\n",
       "      <td>...</td>\n",
       "    </tr>\n",
       "    <tr>\n",
       "      <th rowspan=\"5\" valign=\"top\">E</th>\n",
       "      <th>SLN</th>\n",
       "      <td>55.679012</td>\n",
       "      <td>104445659.0</td>\n",
       "    </tr>\n",
       "    <tr>\n",
       "      <th>TBA</th>\n",
       "      <td>54.992047</td>\n",
       "      <td>60558982.8</td>\n",
       "    </tr>\n",
       "    <tr>\n",
       "      <th>TEX</th>\n",
       "      <td>53.881694</td>\n",
       "      <td>98567688.2</td>\n",
       "    </tr>\n",
       "    <tr>\n",
       "      <th>TOR</th>\n",
       "      <td>48.888889</td>\n",
       "      <td>87203840.0</td>\n",
       "    </tr>\n",
       "    <tr>\n",
       "      <th>WAS</th>\n",
       "      <td>53.024308</td>\n",
       "      <td>90359804.2</td>\n",
       "    </tr>\n",
       "  </tbody>\n",
       "</table>\n",
       "<p>175 rows × 2 columns</p>\n",
       "</div>"
      ],
      "text/plain": [
       "            winPercent      payroll\n",
       "bin teamID                         \n",
       "A   ANA            NaN          NaN\n",
       "    ARI            NaN          NaN\n",
       "    ATL      56.497726   31721852.8\n",
       "    BAL      50.444080   23785204.0\n",
       "    BOS      49.514761   34863216.8\n",
       "...                ...          ...\n",
       "E   SLN      55.679012  104445659.0\n",
       "    TBA      54.992047   60558982.8\n",
       "    TEX      53.881694   98567688.2\n",
       "    TOR      48.888889   87203840.0\n",
       "    WAS      53.024308   90359804.2\n",
       "\n",
       "[175 rows x 2 columns]"
      ]
     },
     "execution_count": 15,
     "metadata": {},
     "output_type": "execute_result"
    }
   ],
   "source": [
    "means\n",
    "\n",
    "# some bins have NaN because the teams don't exist in that time period, \n",
    "# for example the Diamonbacks (ARI) weren't founded until 1998, so they're NaN in bin A (1990-1994)"
   ]
  },
  {
   "cell_type": "code",
   "execution_count": 16,
   "id": "respiratory-indonesian",
   "metadata": {},
   "outputs": [],
   "source": [
    "means = means.dropna()"
   ]
  },
  {
   "cell_type": "code",
   "execution_count": 17,
   "id": "phantom-chinese",
   "metadata": {
    "scrolled": false
   },
   "outputs": [
    {
     "data": {
      "image/png": "[encoded data removed]",
      "text/plain": [
       "<Figure size 1440x720 with 5 Axes>"
      ]
     },
     "metadata": {
      "needs_background": "light"
     },
     "output_type": "display_data"
    }
   ],
   "source": [
    "# creates 5 subplots\n",
    "fig, axes = plt.subplots(nrows=2, ncols=3, figsize=(20, 10))\n",
    "fig.delaxes(axes[1][2])\n",
    "\n",
    "# plots the data\n",
    "means.loc[\"A\"].plot.scatter(x=\"payroll\", y=\"winPercent\", ax=axes[0][0], title=\"Winning Percentage vs. Payroll (1990-1994)\")\n",
    "# adds a label \"OAK\" for the point representing the Oakland A's\n",
    "axes[0, 0].text(means.loc[\"A\"].at[\"OAK\", \"payroll\"], means.loc[\"A\"].at[\"OAK\", \"winPercent\"], \"OAK\")\n",
    "# adds a label \"NYY\" for the point representing the New York Yankees\n",
    "axes[0, 0].text(means.loc[\"A\"].at[\"NYA\", \"payroll\"], means.loc[\"A\"].at[\"NYA\", \"winPercent\"], \"NYY\")\n",
    "\n",
    "means.loc[\"B\"].plot.scatter(x=\"payroll\", y=\"winPercent\", ax=axes[0][1], title=\"Winning Percentage vs. Payroll (1995-1999)\")\n",
    "axes[0, 1].text(means.loc[\"B\"].at[\"OAK\", \"payroll\"], means.loc[\"B\"].at[\"OAK\", \"winPercent\"], \"OAK\")\n",
    "axes[0, 1].text(means.loc[\"B\"].at[\"NYA\", \"payroll\"], means.loc[\"B\"].at[\"NYA\", \"winPercent\"], \"NYY\")\n",
    "\n",
    "means.loc[\"C\"].plot.scatter(x=\"payroll\", y=\"winPercent\", ax=axes[0][2], title=\"Winning Percentage vs. Payroll (2000-2004)\")\n",
    "axes[0, 2].text(means.loc[\"C\"].at[\"OAK\", \"payroll\"], means.loc[\"C\"].at[\"OAK\", \"winPercent\"], \"OAK\")\n",
    "axes[0, 2].text(means.loc[\"C\"].at[\"NYA\", \"payroll\"], means.loc[\"C\"].at[\"NYA\", \"winPercent\"], \"NYY\")\n",
    "\n",
    "means.loc[\"D\"].plot.scatter(x=\"payroll\", y=\"winPercent\", ax=axes[1][0], title=\"Winning Percentage vs. Payroll (2005-2009)\")\n",
    "axes[1, 0].text(means.loc[\"D\"].at[\"OAK\", \"payroll\"], means.loc[\"D\"].at[\"OAK\", \"winPercent\"], \"OAK\")\n",
    "axes[1, 0].text(means.loc[\"D\"].at[\"NYA\", \"payroll\"], means.loc[\"D\"].at[\"NYA\", \"winPercent\"], \"NYY\")\n",
    "\n",
    "means.loc[\"E\"].plot.scatter(x=\"payroll\", y=\"winPercent\", ax=axes[1][1], title=\"Winning Percentage vs. Payroll (2010-2014)\")\n",
    "axes[1, 1].text(means.loc[\"E\"].at[\"OAK\", \"payroll\"], means.loc[\"E\"].at[\"OAK\", \"winPercent\"], \"OAK\")\n",
    "axes[1, 1].text(means.loc[\"E\"].at[\"NYA\", \"payroll\"], means.loc[\"E\"].at[\"NYA\", \"winPercent\"], \"NYY\")\n",
    "\n",
    "plt.setp(axes, xlabel=\"Average Annual Payroll (USD)\")\n",
    "# added \"_ =\" for clean output\n",
    "_ = plt.setp(axes, ylabel=\"Average Winning Percentage\")"
   ]
  },
  {
   "cell_type": "markdown",
   "id": "documented-sellers",
   "metadata": {},
   "source": [
    "To create the 5 plots, I first used the `groupby()` function in Pandas to group the data by chunks of time and team, and take the mean payroll and winning percentage for teams in each. I chose the 5 groups that I did (between 1990-2014) because each time chunk is equal, and we can compare results with results in problems 2 and 3. I then plotted the values for teams within each time chunk on 5 different plots. I chose to label two teams on the plots to make analysis easier. The Oakland A's are labeled \"OAK\", and the New York Yankees are labeled \"NYY\".\n",
    "\n",
    "I chose these teams becase the A's are known having used analytics to win while spending less than other teams, while the Yankees are known for spending a lot of money (also becase I am a Yankees fan). Both of these teams don't rename or move in 1990-2014, so they are in all 5 plots."
   ]
  },
  {
   "cell_type": "markdown",
   "id": "informed-sacrifice",
   "metadata": {},
   "source": [
    "### Question 2"
   ]
  },
  {
   "cell_type": "markdown",
   "id": "sustainable-bicycle",
   "metadata": {},
   "source": [
    "Before analyzing what these plots show, it's important to notice that the x-axis is not consistent for all of them. There seems to a general trend of all teams spending more money over time, which is most prevalent between 1990-1994 and 1995-1999. In 1990-1994 the highest spending teams were around a average annual payroll of \\\\$35 million—in 1995-1999 there were many teams above \\\\$40 million, and the highest spending teams were around \\\\$6 million.\n",
    "\n",
    "In general, it's easy to see a slight trend upward in most of these graphs, meaning teams that spend more money tend to have a higher winning percentage. It is not until 2010-2014 that you begin to see many teams be near the top in winning percentage that are on the lower end of the league in terms of average annual payroll.\n",
    "\n",
    "The first thing I noticed when looking at these graphs is the Yankees' increase in spending between 1995-1999 and 2005-2009. In the former their average payroll appears to be around \\\\$65 million a year, whereas in the latter it is around \\\\$200 million, and by then the Yankees have really become an outlier in spending. In the case of the Yankees, this does seem to translate into winning games, because their winning percentage is at or is very near the highest in the league for all three time chunks following their initial spending increase.\n",
    "\n",
    "The first graph shows that the A's in 1990-1994 had one of the highest average annual payrolls in the MLB. However, in 1995-1999 their spending had not increased by nearly as much as other teams in the league, and they had one of the lowest average payrolls; their success seemed to reflect that, their winning percentage was below 50\\% and was pretty low compared to most other teams over that span. In 2000-2004 their average payroll was still one of the lowest in the league but their winning percentage was one of the best—almost tied with the Yankees! Something must have happened around the turn of the millennium that helped the A's win games with much less money than other teams.\n",
    "\n",
    "They remained low spenders relative to other teams in the next two time chunks, but always had a winning record on average (winning percent over 50\\%). In 2005 to 2009 their winning percentage was only mediocre, but in 2010-2014 they were back to being near the top of the league."
   ]
  },
  {
   "cell_type": "markdown",
   "id": "controlled-difference",
   "metadata": {},
   "source": [
    "# Part 3: Data transformations"
   ]
  },
  {
   "cell_type": "markdown",
   "id": "organized-swedish",
   "metadata": {},
   "source": [
    "## Standardizing Across Years"
   ]
  },
  {
   "cell_type": "markdown",
   "id": "bizarre-surname",
   "metadata": {},
   "source": [
    "### Problem 5"
   ]
  },
  {
   "cell_type": "code",
   "execution_count": null,
   "id": "european-wright",
   "metadata": {},
   "outputs": [],
   "source": []
  }
 ],
 "metadata": {
  "kernelspec": {
   "display_name": "Python 3",
   "language": "python",
   "name": "python3"
  },
  "language_info": {
   "codemirror_mode": {
    "name": "ipython",
    "version": 3
   },
   "file_extension": ".py",
   "mimetype": "text/x-python",
   "name": "python",
   "nbconvert_exporter": "python",
   "pygments_lexer": "ipython3",
   "version": "3.8.6"
  }
 },
 "nbformat": 4,
 "nbformat_minor": 5
}
