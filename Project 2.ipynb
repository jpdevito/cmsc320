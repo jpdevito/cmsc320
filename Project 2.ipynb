{
 "cells": [
  {
   "cell_type": "markdown",
   "id": "given-glossary",
   "metadata": {},
   "source": [
    "# Part 1: Wrangling"
   ]
  },
  {
   "cell_type": "code",
   "execution_count": 1,
   "id": "identified-junction",
   "metadata": {
    "scrolled": true
   },
   "outputs": [],
   "source": [
    "import sqlite3 as sql\n",
    "import pandas as pd\n",
    "import matplotlib.pyplot as plt\n",
    "import numpy as np"
   ]
  },
  {
   "cell_type": "code",
   "execution_count": 2,
   "id": "fewer-termination",
   "metadata": {},
   "outputs": [],
   "source": [
    "# toggle off row display limit\n",
    "pd.set_option(\"display.max_rows\", None)"
   ]
  },
  {
   "cell_type": "code",
   "execution_count": 3,
   "id": "killing-jacksonville",
   "metadata": {},
   "outputs": [],
   "source": [
    "# toggle on row display limit\n",
    "pd.reset_option(\"display.max_rows\")"
   ]
  },
  {
   "cell_type": "markdown",
   "id": "forward-notification",
   "metadata": {},
   "source": [
    "### Problem 1"
   ]
  },
  {
   "cell_type": "code",
   "execution_count": 4,
   "id": "color-offset",
   "metadata": {},
   "outputs": [],
   "source": [
    "sqlite_file = \"lahman2014.sqlite\"\n",
    "conn = sql.connect(sqlite_file)"
   ]
  },
  {
   "cell_type": "code",
   "execution_count": 5,
   "id": "announced-spell",
   "metadata": {
    "scrolled": true
   },
   "outputs": [],
   "source": [
    "# sql code to retrieve the data of interest from the database\n",
    "teams_query = \"\"\"\n",
    "                SELECT \n",
    "                    A.yearID, \n",
    "                    A.teamID, \n",
    "                    franchID,   \n",
    "                    W, \n",
    "                    G, \n",
    "                    100*CAST(W AS float)/CAST(G AS float) AS winPercent,\n",
    "                    payroll\n",
    "                FROM \n",
    "                    Teams A\n",
    "                INNER JOIN \n",
    "                    (SELECT yearID, teamID, SUM(salary) AS payroll FROM Salaries GROUP BY yearID, teamID) B \n",
    "                ON\n",
    "                    A.yearID = B.yearID AND A.teamId = B.teamId\n",
    "            \"\"\"\n",
    "\n",
    "# runs the sql code and stores the data in a dataframe\n",
    "teams = pd.read_sql(teams_query, conn)"
   ]
  },
  {
   "cell_type": "code",
   "execution_count": 6,
   "id": "reflected-local",
   "metadata": {
    "scrolled": true
   },
   "outputs": [
    {
     "data": {
      "text/html": [
       "<div>\n",
       "<style scoped>\n",
       "    .dataframe tbody tr th:only-of-type {\n",
       "        vertical-align: middle;\n",
       "    }\n",
       "\n",
       "    .dataframe tbody tr th {\n",
       "        vertical-align: top;\n",
       "    }\n",
       "\n",
       "    .dataframe thead th {\n",
       "        text-align: right;\n",
       "    }\n",
       "</style>\n",
       "<table border=\"1\" class=\"dataframe\">\n",
       "  <thead>\n",
       "    <tr style=\"text-align: right;\">\n",
       "      <th></th>\n",
       "      <th>yearID</th>\n",
       "      <th>teamID</th>\n",
       "      <th>franchID</th>\n",
       "      <th>W</th>\n",
       "      <th>G</th>\n",
       "      <th>winPercent</th>\n",
       "      <th>payroll</th>\n",
       "    </tr>\n",
       "  </thead>\n",
       "  <tbody>\n",
       "    <tr>\n",
       "      <th>0</th>\n",
       "      <td>1985</td>\n",
       "      <td>ATL</td>\n",
       "      <td>ATL</td>\n",
       "      <td>66</td>\n",
       "      <td>162</td>\n",
       "      <td>40.740741</td>\n",
       "      <td>14807000.0</td>\n",
       "    </tr>\n",
       "    <tr>\n",
       "      <th>1</th>\n",
       "      <td>1985</td>\n",
       "      <td>BAL</td>\n",
       "      <td>BAL</td>\n",
       "      <td>83</td>\n",
       "      <td>161</td>\n",
       "      <td>51.552795</td>\n",
       "      <td>11560712.0</td>\n",
       "    </tr>\n",
       "    <tr>\n",
       "      <th>2</th>\n",
       "      <td>1985</td>\n",
       "      <td>BOS</td>\n",
       "      <td>BOS</td>\n",
       "      <td>81</td>\n",
       "      <td>163</td>\n",
       "      <td>49.693252</td>\n",
       "      <td>10897560.0</td>\n",
       "    </tr>\n",
       "    <tr>\n",
       "      <th>3</th>\n",
       "      <td>1985</td>\n",
       "      <td>CAL</td>\n",
       "      <td>ANA</td>\n",
       "      <td>90</td>\n",
       "      <td>162</td>\n",
       "      <td>55.555556</td>\n",
       "      <td>14427894.0</td>\n",
       "    </tr>\n",
       "    <tr>\n",
       "      <th>4</th>\n",
       "      <td>1985</td>\n",
       "      <td>CHA</td>\n",
       "      <td>CHW</td>\n",
       "      <td>85</td>\n",
       "      <td>163</td>\n",
       "      <td>52.147239</td>\n",
       "      <td>9846178.0</td>\n",
       "    </tr>\n",
       "    <tr>\n",
       "      <th>...</th>\n",
       "      <td>...</td>\n",
       "      <td>...</td>\n",
       "      <td>...</td>\n",
       "      <td>...</td>\n",
       "      <td>...</td>\n",
       "      <td>...</td>\n",
       "      <td>...</td>\n",
       "    </tr>\n",
       "    <tr>\n",
       "      <th>853</th>\n",
       "      <td>2014</td>\n",
       "      <td>SLN</td>\n",
       "      <td>STL</td>\n",
       "      <td>90</td>\n",
       "      <td>162</td>\n",
       "      <td>55.555556</td>\n",
       "      <td>120693000.0</td>\n",
       "    </tr>\n",
       "    <tr>\n",
       "      <th>854</th>\n",
       "      <td>2014</td>\n",
       "      <td>TBA</td>\n",
       "      <td>TBD</td>\n",
       "      <td>77</td>\n",
       "      <td>162</td>\n",
       "      <td>47.530864</td>\n",
       "      <td>72689100.0</td>\n",
       "    </tr>\n",
       "    <tr>\n",
       "      <th>855</th>\n",
       "      <td>2014</td>\n",
       "      <td>TEX</td>\n",
       "      <td>TEX</td>\n",
       "      <td>67</td>\n",
       "      <td>162</td>\n",
       "      <td>41.358025</td>\n",
       "      <td>112255059.0</td>\n",
       "    </tr>\n",
       "    <tr>\n",
       "      <th>856</th>\n",
       "      <td>2014</td>\n",
       "      <td>TOR</td>\n",
       "      <td>TOR</td>\n",
       "      <td>83</td>\n",
       "      <td>162</td>\n",
       "      <td>51.234568</td>\n",
       "      <td>109920100.0</td>\n",
       "    </tr>\n",
       "    <tr>\n",
       "      <th>857</th>\n",
       "      <td>2014</td>\n",
       "      <td>WAS</td>\n",
       "      <td>WSN</td>\n",
       "      <td>96</td>\n",
       "      <td>162</td>\n",
       "      <td>59.259259</td>\n",
       "      <td>131983680.0</td>\n",
       "    </tr>\n",
       "  </tbody>\n",
       "</table>\n",
       "<p>858 rows × 7 columns</p>\n",
       "</div>"
      ],
      "text/plain": [
       "     yearID teamID franchID   W    G  winPercent      payroll\n",
       "0      1985    ATL      ATL  66  162   40.740741   14807000.0\n",
       "1      1985    BAL      BAL  83  161   51.552795   11560712.0\n",
       "2      1985    BOS      BOS  81  163   49.693252   10897560.0\n",
       "3      1985    CAL      ANA  90  162   55.555556   14427894.0\n",
       "4      1985    CHA      CHW  85  163   52.147239    9846178.0\n",
       "..      ...    ...      ...  ..  ...         ...          ...\n",
       "853    2014    SLN      STL  90  162   55.555556  120693000.0\n",
       "854    2014    TBA      TBD  77  162   47.530864   72689100.0\n",
       "855    2014    TEX      TEX  67  162   41.358025  112255059.0\n",
       "856    2014    TOR      TOR  83  162   51.234568  109920100.0\n",
       "857    2014    WAS      WSN  96  162   59.259259  131983680.0\n",
       "\n",
       "[858 rows x 7 columns]"
      ]
     },
     "execution_count": 6,
     "metadata": {},
     "output_type": "execute_result"
    }
   ],
   "source": [
    "teams"
   ]
  },
  {
   "cell_type": "markdown",
   "id": "wicked-pierce",
   "metadata": {},
   "source": [
    "I used the `read_sql()` method in Pandas to extract data from the SQLite database and put it into a Pandas database. In my SQL query, I used the `GROUP BY` statement to sum all of the salaries for each team/year combination in the Salaries table, and then used the `INNER JOIN` statement to combine the resulting table with selected data from the Teams table.\n",
    "\n",
    "As a result of using `INNER JOIN`, team/year combinations that existed in one table but not the other (missing data) were not included in the final table. Therefore the final table does not have any data from before 1985, which is the earliest year of recorded data in the Salaries table.\n",
    "\n",
    "For both of these tables, when the row exists, all variables in the row seem to exist."
   ]
  },
  {
   "cell_type": "markdown",
   "id": "absent-adaptation",
   "metadata": {},
   "source": [
    "# Part 2: Exploratory Data Analysis"
   ]
  },
  {
   "cell_type": "markdown",
   "id": "clean-secretariat",
   "metadata": {},
   "source": [
    "## Payroll Distribution"
   ]
  },
  {
   "cell_type": "markdown",
   "id": "accredited-serial",
   "metadata": {},
   "source": [
    "### Problem 2"
   ]
  },
  {
   "cell_type": "code",
   "execution_count": 7,
   "id": "animal-decade",
   "metadata": {
    "scrolled": true
   },
   "outputs": [
    {
     "data": {
      "text/plain": [
       "array([<AxesSubplot:title={'center':'payroll'}>], dtype=object)"
      ]
     },
     "execution_count": 7,
     "metadata": {},
     "output_type": "execute_result"
    },
    {
     "data": {
      "image/png": "[encoded data removed]",
      "text/plain": [
       "<Figure size 1440x2160 with 24 Axes>"
      ]
     },
     "metadata": {
      "needs_background": "light"
     },
     "output_type": "display_data"
    }
   ],
   "source": [
    "fig, axes = plt.subplots(nrows=6, ncols=4, figsize=(20, 30))\n",
    "teams.hist(column=\"payroll\", bins=100, ax=axes[0][0])"
   ]
  },
  {
   "cell_type": "markdown",
   "id": "dependent-archive",
   "metadata": {},
   "source": [
    "## Correlation between payroll and winning percentage"
   ]
  },
  {
   "cell_type": "markdown",
   "id": "composite-baghdad",
   "metadata": {},
   "source": [
    "### Problem 4"
   ]
  },
  {
   "cell_type": "code",
   "execution_count": 8,
   "id": "expressed-navigator",
   "metadata": {
    "scrolled": true
   },
   "outputs": [],
   "source": [
    "# puts each index from the teams dataframe in a bin based on its year\n",
    "years = teams.iloc[:, 0].rename(\"bin\")\n",
    "bins = pd.cut(x=years, bins=[1990, 1995, 2000, 2005, 2010, 2015], labels=[\"A\", \"B\", \"C\", \"D\", \"E\"], right=False)\n",
    "\n",
    "# creates new dataframe with a bin column and select columns from the teams dataframe\n",
    "means = teams.drop(teams.columns.difference([\"teamID\", \"winPercent\", \"payroll\"]), 1).join(bins)"
   ]
  },
  {
   "cell_type": "code",
   "execution_count": 9,
   "id": "lined-leadership",
   "metadata": {},
   "outputs": [
    {
     "data": {
      "text/html": [
       "<div>\n",
       "<style scoped>\n",
       "    .dataframe tbody tr th:only-of-type {\n",
       "        vertical-align: middle;\n",
       "    }\n",
       "\n",
       "    .dataframe tbody tr th {\n",
       "        vertical-align: top;\n",
       "    }\n",
       "\n",
       "    .dataframe thead th {\n",
       "        text-align: right;\n",
       "    }\n",
       "</style>\n",
       "<table border=\"1\" class=\"dataframe\">\n",
       "  <thead>\n",
       "    <tr style=\"text-align: right;\">\n",
       "      <th></th>\n",
       "      <th>teamID</th>\n",
       "      <th>winPercent</th>\n",
       "      <th>payroll</th>\n",
       "      <th>bin</th>\n",
       "    </tr>\n",
       "  </thead>\n",
       "  <tbody>\n",
       "    <tr>\n",
       "      <th>0</th>\n",
       "      <td>ATL</td>\n",
       "      <td>40.740741</td>\n",
       "      <td>14807000.0</td>\n",
       "      <td>NaN</td>\n",
       "    </tr>\n",
       "    <tr>\n",
       "      <th>1</th>\n",
       "      <td>BAL</td>\n",
       "      <td>51.552795</td>\n",
       "      <td>11560712.0</td>\n",
       "      <td>NaN</td>\n",
       "    </tr>\n",
       "    <tr>\n",
       "      <th>2</th>\n",
       "      <td>BOS</td>\n",
       "      <td>49.693252</td>\n",
       "      <td>10897560.0</td>\n",
       "      <td>NaN</td>\n",
       "    </tr>\n",
       "    <tr>\n",
       "      <th>3</th>\n",
       "      <td>CAL</td>\n",
       "      <td>55.555556</td>\n",
       "      <td>14427894.0</td>\n",
       "      <td>NaN</td>\n",
       "    </tr>\n",
       "    <tr>\n",
       "      <th>4</th>\n",
       "      <td>CHA</td>\n",
       "      <td>52.147239</td>\n",
       "      <td>9846178.0</td>\n",
       "      <td>NaN</td>\n",
       "    </tr>\n",
       "    <tr>\n",
       "      <th>...</th>\n",
       "      <td>...</td>\n",
       "      <td>...</td>\n",
       "      <td>...</td>\n",
       "      <td>...</td>\n",
       "    </tr>\n",
       "    <tr>\n",
       "      <th>853</th>\n",
       "      <td>SLN</td>\n",
       "      <td>55.555556</td>\n",
       "      <td>120693000.0</td>\n",
       "      <td>E</td>\n",
       "    </tr>\n",
       "    <tr>\n",
       "      <th>854</th>\n",
       "      <td>TBA</td>\n",
       "      <td>47.530864</td>\n",
       "      <td>72689100.0</td>\n",
       "      <td>E</td>\n",
       "    </tr>\n",
       "    <tr>\n",
       "      <th>855</th>\n",
       "      <td>TEX</td>\n",
       "      <td>41.358025</td>\n",
       "      <td>112255059.0</td>\n",
       "      <td>E</td>\n",
       "    </tr>\n",
       "    <tr>\n",
       "      <th>856</th>\n",
       "      <td>TOR</td>\n",
       "      <td>51.234568</td>\n",
       "      <td>109920100.0</td>\n",
       "      <td>E</td>\n",
       "    </tr>\n",
       "    <tr>\n",
       "      <th>857</th>\n",
       "      <td>WAS</td>\n",
       "      <td>59.259259</td>\n",
       "      <td>131983680.0</td>\n",
       "      <td>E</td>\n",
       "    </tr>\n",
       "  </tbody>\n",
       "</table>\n",
       "<p>858 rows × 4 columns</p>\n",
       "</div>"
      ],
      "text/plain": [
       "    teamID  winPercent      payroll  bin\n",
       "0      ATL   40.740741   14807000.0  NaN\n",
       "1      BAL   51.552795   11560712.0  NaN\n",
       "2      BOS   49.693252   10897560.0  NaN\n",
       "3      CAL   55.555556   14427894.0  NaN\n",
       "4      CHA   52.147239    9846178.0  NaN\n",
       "..     ...         ...          ...  ...\n",
       "853    SLN   55.555556  120693000.0    E\n",
       "854    TBA   47.530864   72689100.0    E\n",
       "855    TEX   41.358025  112255059.0    E\n",
       "856    TOR   51.234568  109920100.0    E\n",
       "857    WAS   59.259259  131983680.0    E\n",
       "\n",
       "[858 rows x 4 columns]"
      ]
     },
     "execution_count": 9,
     "metadata": {},
     "output_type": "execute_result"
    }
   ],
   "source": [
    "means"
   ]
  },
  {
   "cell_type": "code",
   "execution_count": 10,
   "id": "indonesian-backup",
   "metadata": {},
   "outputs": [],
   "source": [
    "means = means.groupby(by=[\"bin\", \"teamID\"]).mean()"
   ]
  },
  {
   "cell_type": "code",
   "execution_count": 11,
   "id": "returning-penny",
   "metadata": {
    "scrolled": true
   },
   "outputs": [
    {
     "data": {
      "text/html": [
       "<div>\n",
       "<style scoped>\n",
       "    .dataframe tbody tr th:only-of-type {\n",
       "        vertical-align: middle;\n",
       "    }\n",
       "\n",
       "    .dataframe tbody tr th {\n",
       "        vertical-align: top;\n",
       "    }\n",
       "\n",
       "    .dataframe thead th {\n",
       "        text-align: right;\n",
       "    }\n",
       "</style>\n",
       "<table border=\"1\" class=\"dataframe\">\n",
       "  <thead>\n",
       "    <tr style=\"text-align: right;\">\n",
       "      <th></th>\n",
       "      <th></th>\n",
       "      <th>winPercent</th>\n",
       "      <th>payroll</th>\n",
       "    </tr>\n",
       "    <tr>\n",
       "      <th>bin</th>\n",
       "      <th>teamID</th>\n",
       "      <th></th>\n",
       "      <th></th>\n",
       "    </tr>\n",
       "  </thead>\n",
       "  <tbody>\n",
       "    <tr>\n",
       "      <th rowspan=\"5\" valign=\"top\">A</th>\n",
       "      <th>ANA</th>\n",
       "      <td>NaN</td>\n",
       "      <td>NaN</td>\n",
       "    </tr>\n",
       "    <tr>\n",
       "      <th>ARI</th>\n",
       "      <td>NaN</td>\n",
       "      <td>NaN</td>\n",
       "    </tr>\n",
       "    <tr>\n",
       "      <th>ATL</th>\n",
       "      <td>56.497726</td>\n",
       "      <td>31721852.8</td>\n",
       "    </tr>\n",
       "    <tr>\n",
       "      <th>BAL</th>\n",
       "      <td>50.444080</td>\n",
       "      <td>23785204.0</td>\n",
       "    </tr>\n",
       "    <tr>\n",
       "      <th>BOS</th>\n",
       "      <td>49.514761</td>\n",
       "      <td>34863216.8</td>\n",
       "    </tr>\n",
       "    <tr>\n",
       "      <th>...</th>\n",
       "      <th>...</th>\n",
       "      <td>...</td>\n",
       "      <td>...</td>\n",
       "    </tr>\n",
       "    <tr>\n",
       "      <th rowspan=\"5\" valign=\"top\">E</th>\n",
       "      <th>SLN</th>\n",
       "      <td>55.679012</td>\n",
       "      <td>104445659.0</td>\n",
       "    </tr>\n",
       "    <tr>\n",
       "      <th>TBA</th>\n",
       "      <td>54.992047</td>\n",
       "      <td>60558982.8</td>\n",
       "    </tr>\n",
       "    <tr>\n",
       "      <th>TEX</th>\n",
       "      <td>53.881694</td>\n",
       "      <td>98567688.2</td>\n",
       "    </tr>\n",
       "    <tr>\n",
       "      <th>TOR</th>\n",
       "      <td>48.888889</td>\n",
       "      <td>87203840.0</td>\n",
       "    </tr>\n",
       "    <tr>\n",
       "      <th>WAS</th>\n",
       "      <td>53.024308</td>\n",
       "      <td>90359804.2</td>\n",
       "    </tr>\n",
       "  </tbody>\n",
       "</table>\n",
       "<p>175 rows × 2 columns</p>\n",
       "</div>"
      ],
      "text/plain": [
       "            winPercent      payroll\n",
       "bin teamID                         \n",
       "A   ANA            NaN          NaN\n",
       "    ARI            NaN          NaN\n",
       "    ATL      56.497726   31721852.8\n",
       "    BAL      50.444080   23785204.0\n",
       "    BOS      49.514761   34863216.8\n",
       "...                ...          ...\n",
       "E   SLN      55.679012  104445659.0\n",
       "    TBA      54.992047   60558982.8\n",
       "    TEX      53.881694   98567688.2\n",
       "    TOR      48.888889   87203840.0\n",
       "    WAS      53.024308   90359804.2\n",
       "\n",
       "[175 rows x 2 columns]"
      ]
     },
     "execution_count": 11,
     "metadata": {},
     "output_type": "execute_result"
    }
   ],
   "source": [
    "means\n",
    "\n",
    "# some bins have NaN because the teams don't exist in that time period, \n",
    "# for example the Diamonbacks (ARI) weren't founded until 1998, so they're NaN in bin A (1990-1994)"
   ]
  },
  {
   "cell_type": "code",
   "execution_count": 12,
   "id": "sporting-delhi",
   "metadata": {},
   "outputs": [],
   "source": [
    "means = means.dropna()"
   ]
  },
  {
   "cell_type": "code",
   "execution_count": 57,
   "id": "phantom-chinese",
   "metadata": {
    "scrolled": true
   },
   "outputs": [
    {
     "data": {
      "text/plain": [
       "<AxesSubplot:title={'center':'Winning Percentage vs. Payroll (2010-2014)'}, xlabel='payroll', ylabel='winPercent'>"
      ]
     },
     "execution_count": 57,
     "metadata": {},
     "output_type": "execute_result"
    },
    {
     "data": {
      "image/png": "[encoded data removed]",
      "text/plain": [
       "<Figure size 1440x720 with 5 Axes>"
      ]
     },
     "metadata": {
      "needs_background": "light"
     },
     "output_type": "display_data"
    }
   ],
   "source": [
    "# creates 5 subplots\n",
    "fig, axes = plt.subplots(nrows=2, ncols=3, figsize=(20, 10))\n",
    "fig.delaxes(axes[1][2])\n",
    "\n",
    "# plots the data for 1990-1994\n",
    "means.loc[\"A\"].plot.scatter(x=\"payroll\", y=\"winPercent\", ax=axes[0][0], title=\"Winning Percentage vs. Payroll (1990-1994)\")\n",
    "# plots best fit line\n",
    "b, m = np.polyfit(means.loc[\"A\"].reset_index().payroll, means.loc[\"A\"].reset_index().winPercent, 1)\n",
    "axes[0, 0].plot(means.loc[\"A\"].reset_index().payroll, b + m * means.loc[\"A\"].reset_index().payroll, '-')\n",
    "\n",
    "# plots the data for 1994-1999\n",
    "means.loc[\"B\"].plot.scatter(x=\"payroll\", y=\"winPercent\", ax=axes[0][1], title=\"Winning Percentage vs. Payroll (1995-1999)\")\n",
    "\n",
    "means.loc[\"C\"].plot.scatter(x=\"payroll\", y=\"winPercent\", ax=axes[0][2], title=\"Winning Percentage vs. Payroll (2000-2004)\")\n",
    "means.loc[\"D\"].plot.scatter(x=\"payroll\", y=\"winPercent\", ax=axes[1][0], title=\"Winning Percentage vs. Payroll (2005-2009)\")\n",
    "means.loc[\"E\"].plot.scatter(x=\"payroll\", y=\"winPercent\", ax=axes[1][1], title=\"Winning Percentage vs. Payroll (2010-2014)\")"
   ]
  },
  {
   "cell_type": "code",
   "execution_count": 56,
   "id": "serial-occurrence",
   "metadata": {},
   "outputs": [
    {
     "data": {
      "text/plain": [
       "[<matplotlib.lines.Line2D at 0x7f9613181bb0>]"
      ]
     },
     "execution_count": 56,
     "metadata": {},
     "output_type": "execute_result"
    },
    {
     "data": {
      "image/png": "[encoded data removed]",
      "text/plain": [
       "<Figure size 432x288 with 1 Axes>"
      ]
     },
     "metadata": {
      "needs_background": "light"
     },
     "output_type": "display_data"
    }
   ],
   "source": [
    "b, m = np.polyfit(means.loc[\"A\"].reset_index().payroll, means.loc[\"A\"].reset_index().winPercent, 1)\n",
    "#fun = np.poly1d(fit)\n",
    "\n",
    "plt.plot(means.loc[\"A\"].reset_index().payroll, b + m * means.loc[\"A\"].reset_index().payroll, '-')"
   ]
  },
  {
   "cell_type": "code",
   "execution_count": 49,
   "id": "imposed-sugar",
   "metadata": {
    "scrolled": true
   },
   "outputs": [
    {
     "data": {
      "text/plain": [
       "0     56.497726\n",
       "1     50.444080\n",
       "2     49.514761\n",
       "3     45.704777\n",
       "4     56.426308\n",
       "5     47.740117\n",
       "6     51.972088\n",
       "7     46.990058\n",
       "8     43.328585\n",
       "9     49.093935\n",
       "10    41.926999\n",
       "11    49.256039\n",
       "12    49.829921\n",
       "13    50.051982\n",
       "14    50.121272\n",
       "15    48.476651\n",
       "16    54.570642\n",
       "17    49.673331\n",
       "18    46.707138\n",
       "19    52.280702\n",
       "20    49.144391\n",
       "21    54.236517\n",
       "22    45.318139\n",
       "23    46.527778\n",
       "24    50.923242\n",
       "25    49.217391\n",
       "26    49.987005\n",
       "27    54.997316\n",
       "Name: winPercent, dtype: float64"
      ]
     },
     "execution_count": 49,
     "metadata": {},
     "output_type": "execute_result"
    }
   ],
   "source": [
    "means.loc[\"A\"].reset_index().winPercent"
   ]
  },
  {
   "cell_type": "code",
   "execution_count": 54,
   "id": "increasing-string",
   "metadata": {},
   "outputs": [
    {
     "data": {
      "text/plain": [
       "array([2.12728242e-07, 4.38956724e+01])"
      ]
     },
     "execution_count": 54,
     "metadata": {},
     "output_type": "execute_result"
    }
   ],
   "source": [
    "fit"
   ]
  },
  {
   "cell_type": "markdown",
   "id": "comic-smile",
   "metadata": {},
   "source": [
    "### Question 2"
   ]
  },
  {
   "cell_type": "code",
   "execution_count": null,
   "id": "lightweight-archive",
   "metadata": {},
   "outputs": [],
   "source": []
  }
 ],
 "metadata": {
  "kernelspec": {
   "display_name": "Python 3",
   "language": "python",
   "name": "python3"
  },
  "language_info": {
   "codemirror_mode": {
    "name": "ipython",
    "version": 3
   },
   "file_extension": ".py",
   "mimetype": "text/x-python",
   "name": "python",
   "nbconvert_exporter": "python",
   "pygments_lexer": "ipython3",
   "version": "3.8.6"
  }
 },
 "nbformat": 4,
 "nbformat_minor": 5
}
